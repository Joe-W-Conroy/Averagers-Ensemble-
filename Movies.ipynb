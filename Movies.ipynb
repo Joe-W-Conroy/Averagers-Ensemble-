{
 "cells": [
  {
   "cell_type": "markdown",
   "metadata": {},
   "source": [
    "# IMDB Movies"
   ]
  },
  {
   "cell_type": "code",
   "execution_count": 444,
   "metadata": {},
   "outputs": [],
   "source": [
    "import pandas as pd\n",
    "import numpy as np"
   ]
  },
  {
   "cell_type": "code",
   "execution_count": 445,
   "metadata": {},
   "outputs": [],
   "source": [
    "movies = pd.read_csv('IMDb movies.csv',low_memory=False)"
   ]
  },
  {
   "cell_type": "code",
   "execution_count": 446,
   "metadata": {},
   "outputs": [
    {
     "data": {
      "text/html": [
       "<div>\n",
       "<style scoped>\n",
       "    .dataframe tbody tr th:only-of-type {\n",
       "        vertical-align: middle;\n",
       "    }\n",
       "\n",
       "    .dataframe tbody tr th {\n",
       "        vertical-align: top;\n",
       "    }\n",
       "\n",
       "    .dataframe thead th {\n",
       "        text-align: right;\n",
       "    }\n",
       "</style>\n",
       "<table border=\"1\" class=\"dataframe\">\n",
       "  <thead>\n",
       "    <tr style=\"text-align: right;\">\n",
       "      <th></th>\n",
       "      <th>imdb_title_id</th>\n",
       "      <th>title</th>\n",
       "      <th>original_title</th>\n",
       "      <th>year</th>\n",
       "      <th>date_published</th>\n",
       "      <th>genre</th>\n",
       "      <th>duration</th>\n",
       "      <th>country</th>\n",
       "      <th>language</th>\n",
       "      <th>director</th>\n",
       "      <th>...</th>\n",
       "      <th>actors</th>\n",
       "      <th>description</th>\n",
       "      <th>avg_vote</th>\n",
       "      <th>votes</th>\n",
       "      <th>budget</th>\n",
       "      <th>usa_gross_income</th>\n",
       "      <th>worlwide_gross_income</th>\n",
       "      <th>metascore</th>\n",
       "      <th>reviews_from_users</th>\n",
       "      <th>reviews_from_critics</th>\n",
       "    </tr>\n",
       "  </thead>\n",
       "  <tbody>\n",
       "    <tr>\n",
       "      <th>0</th>\n",
       "      <td>tt0000009</td>\n",
       "      <td>Miss Jerry</td>\n",
       "      <td>Miss Jerry</td>\n",
       "      <td>1894</td>\n",
       "      <td>1894-10-09</td>\n",
       "      <td>Romance</td>\n",
       "      <td>45</td>\n",
       "      <td>USA</td>\n",
       "      <td>None</td>\n",
       "      <td>Alexander Black</td>\n",
       "      <td>...</td>\n",
       "      <td>Blanche Bayliss, William Courtenay, Chauncey D...</td>\n",
       "      <td>The adventures of a female reporter in the 1890s.</td>\n",
       "      <td>5.9</td>\n",
       "      <td>154</td>\n",
       "      <td>NaN</td>\n",
       "      <td>NaN</td>\n",
       "      <td>NaN</td>\n",
       "      <td>NaN</td>\n",
       "      <td>1.0</td>\n",
       "      <td>2.0</td>\n",
       "    </tr>\n",
       "    <tr>\n",
       "      <th>1</th>\n",
       "      <td>tt0000574</td>\n",
       "      <td>The Story of the Kelly Gang</td>\n",
       "      <td>The Story of the Kelly Gang</td>\n",
       "      <td>1906</td>\n",
       "      <td>1906-12-26</td>\n",
       "      <td>Biography, Crime, Drama</td>\n",
       "      <td>70</td>\n",
       "      <td>Australia</td>\n",
       "      <td>None</td>\n",
       "      <td>Charles Tait</td>\n",
       "      <td>...</td>\n",
       "      <td>Elizabeth Tait, John Tait, Norman Campbell, Be...</td>\n",
       "      <td>True story of notorious Australian outlaw Ned ...</td>\n",
       "      <td>6.1</td>\n",
       "      <td>589</td>\n",
       "      <td>$ 2250</td>\n",
       "      <td>NaN</td>\n",
       "      <td>NaN</td>\n",
       "      <td>NaN</td>\n",
       "      <td>7.0</td>\n",
       "      <td>7.0</td>\n",
       "    </tr>\n",
       "    <tr>\n",
       "      <th>2</th>\n",
       "      <td>tt0001892</td>\n",
       "      <td>Den sorte drøm</td>\n",
       "      <td>Den sorte drøm</td>\n",
       "      <td>1911</td>\n",
       "      <td>1911-08-19</td>\n",
       "      <td>Drama</td>\n",
       "      <td>53</td>\n",
       "      <td>Germany, Denmark</td>\n",
       "      <td>NaN</td>\n",
       "      <td>Urban Gad</td>\n",
       "      <td>...</td>\n",
       "      <td>Asta Nielsen, Valdemar Psilander, Gunnar Helse...</td>\n",
       "      <td>Two men of high rank are both wooing the beaut...</td>\n",
       "      <td>5.8</td>\n",
       "      <td>188</td>\n",
       "      <td>NaN</td>\n",
       "      <td>NaN</td>\n",
       "      <td>NaN</td>\n",
       "      <td>NaN</td>\n",
       "      <td>5.0</td>\n",
       "      <td>2.0</td>\n",
       "    </tr>\n",
       "    <tr>\n",
       "      <th>3</th>\n",
       "      <td>tt0002101</td>\n",
       "      <td>Cleopatra</td>\n",
       "      <td>Cleopatra</td>\n",
       "      <td>1912</td>\n",
       "      <td>1912-11-13</td>\n",
       "      <td>Drama, History</td>\n",
       "      <td>100</td>\n",
       "      <td>USA</td>\n",
       "      <td>English</td>\n",
       "      <td>Charles L. Gaskill</td>\n",
       "      <td>...</td>\n",
       "      <td>Helen Gardner, Pearl Sindelar, Miss Fielding, ...</td>\n",
       "      <td>The fabled queen of Egypt's affair with Roman ...</td>\n",
       "      <td>5.2</td>\n",
       "      <td>446</td>\n",
       "      <td>$ 45000</td>\n",
       "      <td>NaN</td>\n",
       "      <td>NaN</td>\n",
       "      <td>NaN</td>\n",
       "      <td>25.0</td>\n",
       "      <td>3.0</td>\n",
       "    </tr>\n",
       "    <tr>\n",
       "      <th>4</th>\n",
       "      <td>tt0002130</td>\n",
       "      <td>L'Inferno</td>\n",
       "      <td>L'Inferno</td>\n",
       "      <td>1911</td>\n",
       "      <td>1911-03-06</td>\n",
       "      <td>Adventure, Drama, Fantasy</td>\n",
       "      <td>68</td>\n",
       "      <td>Italy</td>\n",
       "      <td>Italian</td>\n",
       "      <td>Francesco Bertolini, Adolfo Padovan</td>\n",
       "      <td>...</td>\n",
       "      <td>Salvatore Papa, Arturo Pirovano, Giuseppe de L...</td>\n",
       "      <td>Loosely adapted from Dante's Divine Comedy and...</td>\n",
       "      <td>7.0</td>\n",
       "      <td>2237</td>\n",
       "      <td>NaN</td>\n",
       "      <td>NaN</td>\n",
       "      <td>NaN</td>\n",
       "      <td>NaN</td>\n",
       "      <td>31.0</td>\n",
       "      <td>14.0</td>\n",
       "    </tr>\n",
       "  </tbody>\n",
       "</table>\n",
       "<p>5 rows × 22 columns</p>\n",
       "</div>"
      ],
      "text/plain": [
       "  imdb_title_id                        title               original_title  \\\n",
       "0     tt0000009                   Miss Jerry                   Miss Jerry   \n",
       "1     tt0000574  The Story of the Kelly Gang  The Story of the Kelly Gang   \n",
       "2     tt0001892               Den sorte drøm               Den sorte drøm   \n",
       "3     tt0002101                    Cleopatra                    Cleopatra   \n",
       "4     tt0002130                    L'Inferno                    L'Inferno   \n",
       "\n",
       "   year date_published                      genre  duration           country  \\\n",
       "0  1894     1894-10-09                    Romance        45               USA   \n",
       "1  1906     1906-12-26    Biography, Crime, Drama        70         Australia   \n",
       "2  1911     1911-08-19                      Drama        53  Germany, Denmark   \n",
       "3  1912     1912-11-13             Drama, History       100               USA   \n",
       "4  1911     1911-03-06  Adventure, Drama, Fantasy        68             Italy   \n",
       "\n",
       "  language                             director  ...  \\\n",
       "0     None                      Alexander Black  ...   \n",
       "1     None                         Charles Tait  ...   \n",
       "2      NaN                            Urban Gad  ...   \n",
       "3  English                   Charles L. Gaskill  ...   \n",
       "4  Italian  Francesco Bertolini, Adolfo Padovan  ...   \n",
       "\n",
       "                                              actors  \\\n",
       "0  Blanche Bayliss, William Courtenay, Chauncey D...   \n",
       "1  Elizabeth Tait, John Tait, Norman Campbell, Be...   \n",
       "2  Asta Nielsen, Valdemar Psilander, Gunnar Helse...   \n",
       "3  Helen Gardner, Pearl Sindelar, Miss Fielding, ...   \n",
       "4  Salvatore Papa, Arturo Pirovano, Giuseppe de L...   \n",
       "\n",
       "                                         description avg_vote votes   budget  \\\n",
       "0  The adventures of a female reporter in the 1890s.      5.9   154      NaN   \n",
       "1  True story of notorious Australian outlaw Ned ...      6.1   589   $ 2250   \n",
       "2  Two men of high rank are both wooing the beaut...      5.8   188      NaN   \n",
       "3  The fabled queen of Egypt's affair with Roman ...      5.2   446  $ 45000   \n",
       "4  Loosely adapted from Dante's Divine Comedy and...      7.0  2237      NaN   \n",
       "\n",
       "   usa_gross_income worlwide_gross_income metascore reviews_from_users  \\\n",
       "0               NaN                   NaN       NaN                1.0   \n",
       "1               NaN                   NaN       NaN                7.0   \n",
       "2               NaN                   NaN       NaN                5.0   \n",
       "3               NaN                   NaN       NaN               25.0   \n",
       "4               NaN                   NaN       NaN               31.0   \n",
       "\n",
       "   reviews_from_critics  \n",
       "0                   2.0  \n",
       "1                   7.0  \n",
       "2                   2.0  \n",
       "3                   3.0  \n",
       "4                  14.0  \n",
       "\n",
       "[5 rows x 22 columns]"
      ]
     },
     "execution_count": 446,
     "metadata": {},
     "output_type": "execute_result"
    }
   ],
   "source": [
    "movies.head()"
   ]
  },
  {
   "cell_type": "code",
   "execution_count": 447,
   "metadata": {},
   "outputs": [
    {
     "name": "stdout",
     "output_type": "stream",
     "text": [
      "<class 'pandas.core.frame.DataFrame'>\n",
      "RangeIndex: 85855 entries, 0 to 85854\n",
      "Data columns (total 22 columns):\n",
      " #   Column                 Non-Null Count  Dtype  \n",
      "---  ------                 --------------  -----  \n",
      " 0   imdb_title_id          85855 non-null  object \n",
      " 1   title                  85855 non-null  object \n",
      " 2   original_title         85855 non-null  object \n",
      " 3   year                   85855 non-null  object \n",
      " 4   date_published         85855 non-null  object \n",
      " 5   genre                  85855 non-null  object \n",
      " 6   duration               85855 non-null  int64  \n",
      " 7   country                85791 non-null  object \n",
      " 8   language               85022 non-null  object \n",
      " 9   director               85768 non-null  object \n",
      " 10  writer                 84283 non-null  object \n",
      " 11  production_company     81400 non-null  object \n",
      " 12  actors                 85786 non-null  object \n",
      " 13  description            83740 non-null  object \n",
      " 14  avg_vote               85855 non-null  float64\n",
      " 15  votes                  85855 non-null  int64  \n",
      " 16  budget                 23710 non-null  object \n",
      " 17  usa_gross_income       15326 non-null  object \n",
      " 18  worlwide_gross_income  31016 non-null  object \n",
      " 19  metascore              13305 non-null  float64\n",
      " 20  reviews_from_users     78258 non-null  float64\n",
      " 21  reviews_from_critics   74058 non-null  float64\n",
      "dtypes: float64(4), int64(2), object(16)\n",
      "memory usage: 14.4+ MB\n"
     ]
    }
   ],
   "source": [
    "movies.info()"
   ]
  },
  {
   "cell_type": "markdown",
   "metadata": {},
   "source": [
    "# Preprocessing"
   ]
  },
  {
   "cell_type": "code",
   "execution_count": 448,
   "metadata": {},
   "outputs": [],
   "source": [
    "#drop na values\n",
    "#movies.dropna(subset = ['budget', 'usa_gross_income', 'worlwide_gross_income', 'metascore'], inplace = True)\n",
    "movies.dropna(inplace = True)\n",
    "\n",
    "#drop columns won't be used\n",
    "movies.drop(columns = ['imdb_title_id', 'title', 'original_title', 'date_published', 'director', 'writer', 'actors', 'description'], inplace = True)"
   ]
  },
  {
   "cell_type": "code",
   "execution_count": 449,
   "metadata": {},
   "outputs": [
    {
     "name": "stdout",
     "output_type": "stream",
     "text": [
      "<class 'pandas.core.frame.DataFrame'>\n",
      "Int64Index: 6616 entries, 506 to 85740\n",
      "Data columns (total 14 columns):\n",
      " #   Column                 Non-Null Count  Dtype  \n",
      "---  ------                 --------------  -----  \n",
      " 0   year                   6616 non-null   object \n",
      " 1   genre                  6616 non-null   object \n",
      " 2   duration               6616 non-null   int64  \n",
      " 3   country                6616 non-null   object \n",
      " 4   language               6616 non-null   object \n",
      " 5   production_company     6616 non-null   object \n",
      " 6   avg_vote               6616 non-null   float64\n",
      " 7   votes                  6616 non-null   int64  \n",
      " 8   budget                 6616 non-null   object \n",
      " 9   usa_gross_income       6616 non-null   object \n",
      " 10  worlwide_gross_income  6616 non-null   object \n",
      " 11  metascore              6616 non-null   float64\n",
      " 12  reviews_from_users     6616 non-null   float64\n",
      " 13  reviews_from_critics   6616 non-null   float64\n",
      "dtypes: float64(4), int64(2), object(8)\n",
      "memory usage: 775.3+ KB\n"
     ]
    }
   ],
   "source": [
    "movies.info()"
   ]
  },
  {
   "cell_type": "code",
   "execution_count": 450,
   "metadata": {},
   "outputs": [],
   "source": [
    "#convert'year'to int and filter records before 1970\n",
    "movies['year'] = movies['year'].astype(int)\n",
    "movies.drop(movies[movies['year']<1970].index, inplace = True)"
   ]
  },
  {
   "cell_type": "code",
   "execution_count": 451,
   "metadata": {},
   "outputs": [
    {
     "name": "stderr",
     "output_type": "stream",
     "text": [
      "<ipython-input-451-879768cfbbbf>:3: FutureWarning: Columnar iteration over characters will be deprecated in future releases.\n",
      "  movies['usa_income_symbol'], movies['usa_income_old'] = movies['usa_gross_income'].str.split(' ', 1).str\n",
      "<ipython-input-451-879768cfbbbf>:6: FutureWarning: Columnar iteration over characters will be deprecated in future releases.\n",
      "  movies['worlwide_income_symbol'], movies['worlwide_income_old'] = movies['worlwide_gross_income'].str.split(' ', 1).str\n",
      "<ipython-input-451-879768cfbbbf>:9: FutureWarning: Columnar iteration over characters will be deprecated in future releases.\n",
      "  movies['budget_symbol'], movies['budget_old'] = movies['budget'].str.split(' ', 1).str\n"
     ]
    }
   ],
   "source": [
    "#split coloumn 'usa_gross_income', 'worlwode_gross_income' and 'budget' into two columns\n",
    "\n",
    "movies['usa_income_symbol'], movies['usa_income_old'] = movies['usa_gross_income'].str.split(' ', 1).str\n",
    "movies['usa_income_old'] = movies['usa_income_old'].astype(float)\n",
    "\n",
    "movies['worlwide_income_symbol'], movies['worlwide_income_old'] = movies['worlwide_gross_income'].str.split(' ', 1).str\n",
    "movies['worlwide_income_old'] = movies['worlwide_income_old'].astype(float)\n",
    "\n",
    "movies['budget_symbol'], movies['budget_old'] = movies['budget'].str.split(' ', 1).str\n",
    "movies['budget_old'] = movies['budget_old'].astype(float) "
   ]
  },
  {
   "cell_type": "code",
   "execution_count": 452,
   "metadata": {},
   "outputs": [],
   "source": [
    "#currency converter\n",
    "from currency_converter import CurrencyConverter\n",
    "c = CurrencyConverter()\n",
    "\n",
    "movies['usa_income_symbol'] = movies['usa_income_symbol'].str.replace('$','USD')\n",
    "movies['usa_income_dollar'] = movies.apply(lambda movies: c.convert(movies['usa_income_old'],movies['usa_income_symbol'],new_currency='USD'),axis=1)\n",
    "\n",
    "movies['worlwide_income_symbol'] = movies['worlwide_income_symbol'].str.replace('$','USD')\n",
    "movies['worlwide_income_dollar'] = movies.apply(lambda movies: c.convert(movies['worlwide_income_old'],movies['worlwide_income_symbol'],new_currency='USD'),axis=1)\n",
    "\n",
    "\n",
    "movies['budget_symbol'] = movies['budget_symbol'].str.replace('$','USD')\n",
    "movies['budget_symbol'] = movies['budget_symbol'].str.replace('RUR','RUB')\n",
    "\n",
    "\n",
    "def convert_others_to_usd(symbol:str, old_value:float):\n",
    "    #currency rates are found in the website: https://www.xe.com/currencyconverter/convert/?Amount=1&From=DEM&To=USD\n",
    "    currencies = {\n",
    "        'DEM': 0.61261302,\n",
    "        'FRF': 0.182659,\n",
    "        'ITL': 0.000618802,\n",
    "        'BEF': 0.0297018,\n",
    "        'ESP': 0.00720113,\n",
    "        'ATS': 0.0870742, \n",
    "        'FIM': 0.201517,\n",
    "        'CLP': 0.00142245,\n",
    "        'NGN': 0.0026280674,\n",
    "        'ARS': 0.010775668,\n",
    "        'DOP': 0.017537532\n",
    "    }\n",
    "    if symbol in currencies:\n",
    "        converted_value = currencies[symbol] * old_value\n",
    "    else:\n",
    "        converted_value = c.convert(old_value, symbol, 'USD')\n",
    "    return converted_value\n",
    "\n",
    "        \n",
    "movies['budget_dollar'] = movies.apply(lambda movies: convert_others_to_usd(movies['budget_symbol'],movies['budget_old']),axis=1)\n",
    "\n",
    "\n",
    "\n",
    "movies.drop(columns = ['usa_gross_income','usa_income_symbol','usa_income_old',\n",
    "                       'worlwide_gross_income','worlwide_income_symbol','worlwide_income_old',\n",
    "                       'budget','budget_symbol','budget_old'], inplace = True)\n"
   ]
  },
  {
   "cell_type": "code",
   "execution_count": 453,
   "metadata": {},
   "outputs": [
    {
     "name": "stdout",
     "output_type": "stream",
     "text": [
      "<class 'pandas.core.frame.DataFrame'>\n",
      "Int64Index: 6525 entries, 4334 to 85740\n",
      "Data columns (total 14 columns):\n",
      " #   Column                  Non-Null Count  Dtype  \n",
      "---  ------                  --------------  -----  \n",
      " 0   year                    6525 non-null   int64  \n",
      " 1   genre                   6525 non-null   object \n",
      " 2   duration                6525 non-null   int64  \n",
      " 3   country                 6525 non-null   object \n",
      " 4   language                6525 non-null   object \n",
      " 5   production_company      6525 non-null   object \n",
      " 6   avg_vote                6525 non-null   float64\n",
      " 7   votes                   6525 non-null   int64  \n",
      " 8   metascore               6525 non-null   float64\n",
      " 9   reviews_from_users      6525 non-null   float64\n",
      " 10  reviews_from_critics    6525 non-null   float64\n",
      " 11  usa_income_dollar       6525 non-null   float64\n",
      " 12  worlwide_income_dollar  6525 non-null   float64\n",
      " 13  budget_dollar           6525 non-null   float64\n",
      "dtypes: float64(7), int64(3), object(4)\n",
      "memory usage: 764.6+ KB\n"
     ]
    }
   ],
   "source": [
    "movies.info()"
   ]
  },
  {
   "cell_type": "markdown",
   "metadata": {},
   "source": [
    "# Naive Bayes"
   ]
  },
  {
   "cell_type": "code",
   "execution_count": 454,
   "metadata": {},
   "outputs": [],
   "source": [
    "#predict with categorical attributes\n",
    "#label = movies['avg_vote'].astype(int)\n",
    "\n",
    "label = pd.cut(avg_vote,10,right=True)\n",
    "cate = movies[['genre','country','language','production_company']]\n",
    "\n",
    "#encode categorical attributes\n",
    "from sklearn.preprocessing import LabelEncoder\n",
    "le = LabelEncoder()\n",
    "cate_encoded = cate.apply(le.fit_transform)\n",
    "label_encoded = label.apply(le.fit_transform)"
   ]
  },
  {
   "cell_type": "code",
   "execution_count": 455,
   "metadata": {},
   "outputs": [
    {
     "name": "stdout",
     "output_type": "stream",
     "text": [
      "(5546, 4)\n",
      "(979, 4)\n",
      "(5546,)\n",
      "(979,)\n"
     ]
    }
   ],
   "source": [
    "#split training and test sets\n",
    "from sklearn.model_selection import train_test_split\n",
    "cate_train, cate_test,label_train,label_test = train_test_split(cate_encoded, label_encoded,test_size=0.15, random_state=5)\n",
    "print(cate_train.shape)\n",
    "print(cate_test.shape)\n",
    "print(label_train.shape)\n",
    "print(label_test.shape)"
   ]
  },
  {
   "cell_type": "code",
   "execution_count": 456,
   "metadata": {},
   "outputs": [
    {
     "name": "stdout",
     "output_type": "stream",
     "text": [
      "Accuracy score: 0.426966\n"
     ]
    }
   ],
   "source": [
    "#CategoricalNB\n",
    "from sklearn.naive_bayes import CategoricalNB\n",
    "CNB = CategoricalNB()\n",
    "CNB.fit(cate_train,label_train,sample_weight=None)\n",
    "cate_predictions = CNB.predict(cate_test)\n",
    "\n",
    "#evaluate the result\n",
    "from sklearn.metrics import accuracy_score, precision_score, recall_score, f1_score\n",
    "print('Accuracy score: %f'%accuracy_score(label_test, cate_predictions))"
   ]
  },
  {
   "cell_type": "code",
   "execution_count": 457,
   "metadata": {},
   "outputs": [
    {
     "name": "stdout",
     "output_type": "stream",
     "text": [
      "Accuracy score: 0.271706\n"
     ]
    }
   ],
   "source": [
    "#predict with continuous attributes\n",
    "cont = movies[['metascore','reviews_from_users','reviews_from_critics','usa_income_dollar','worlwide_income_dollar','budget_dollar']]\n",
    "\n",
    "#split training and test sets\n",
    "cont_train, cont_test,label_train,label_test = train_test_split(cont, label_encoded,test_size=0.15, random_state=5)\n",
    "\n",
    "#GaussianNB\n",
    "from sklearn.naive_bayes import GaussianNB\n",
    "GNB = GaussianNB()\n",
    "GNB.fit(cont_train,label_train)\n",
    "cont_predictions = GNB.predict(cont_test)\n",
    "\n",
    "#evaluate the ressult\n",
    "print('Accuracy score: %f'%accuracy_score(label_test, cont_predictions))"
   ]
  },
  {
   "cell_type": "code",
   "execution_count": 458,
   "metadata": {},
   "outputs": [
    {
     "name": "stdout",
     "output_type": "stream",
     "text": [
      "Accuracy score: 0.394280\n"
     ]
    }
   ],
   "source": [
    "#predict with discrete attributes\n",
    "disc = movies[['year','duration','votes']]\n",
    "\n",
    "#split training and test sets\n",
    "disc_train, disc_test,label_train,label_test = train_test_split(disc, label_encoded,test_size=0.15, random_state=5)\n",
    "\n",
    "#BernoulliNB\n",
    "from sklearn.naive_bayes import BernoulliNB\n",
    "BNB = BernoulliNB()\n",
    "BNB.fit(disc_train,label_train)\n",
    "disc_predictions = BNB.predict(disc_test)\n",
    "\n",
    "#evaluate the result\n",
    "print('Accuracy score: %f'%accuracy_score(label_test, disc_predictions))"
   ]
  },
  {
   "cell_type": "code",
   "execution_count": 459,
   "metadata": {},
   "outputs": [
    {
     "name": "stdout",
     "output_type": "stream",
     "text": [
      "[]\n",
      "Accuracy score: 0.477017\n"
     ]
    }
   ],
   "source": [
    "#predict with MixedNB\n",
    "movies['avg_vote'] = pd.cut(avg_vote,10,right=True)\n",
    "movies_encoded = movies.apply(le.fit_transform)\n",
    "label_encoded = movies_encoded['avg_vote']\n",
    "movies_encoded = movies_encoded.drop(columns=['avg_vote'])\n",
    "\n",
    "movie_train, movie_test,label_train,label_test = train_test_split(movies_encoded, label_encoded,test_size=0.15, random_state=5)\n",
    "\n",
    "from mixed_naive_bayes import MixedNB\n",
    "MNB = MixedNB()\n",
    "MNB.fit(movie_train,label_train)\n",
    "predictions = MNB.predict(movie_test)\n",
    "\n",
    "print('Accuracy score: %f'%accuracy_score(label_test, predictions))"
   ]
  },
  {
   "cell_type": "code",
   "execution_count": null,
   "metadata": {},
   "outputs": [],
   "source": []
  },
  {
   "cell_type": "code",
   "execution_count": null,
   "metadata": {},
   "outputs": [],
   "source": []
  }
 ],
 "metadata": {
  "kernelspec": {
   "display_name": "Python 3",
   "language": "python",
   "name": "python3"
  },
  "language_info": {
   "codemirror_mode": {
    "name": "ipython",
    "version": 3
   },
   "file_extension": ".py",
   "mimetype": "text/x-python",
   "name": "python",
   "nbconvert_exporter": "python",
   "pygments_lexer": "ipython3",
   "version": "3.8.5"
  }
 },
 "nbformat": 4,
 "nbformat_minor": 4
}
