{
 "cells": [
  {
   "cell_type": "markdown",
   "metadata": {
    "collapsed": true,
    "pycharm": {
     "name": "#%% md\n"
    }
   },
   "source": [
    "# Using K-Nearest Neighbors Method to Predict IMDb Ratings"
   ]
  },
  {
   "cell_type": "markdown",
   "source": [
    "## Data Loading\n",
    "Data from Kaggle. There are three datasets on movie name, ratings, etc. for each movie. We combine\n",
    "basic info of movies and their complete ratings together to predict."
   ],
   "metadata": {
    "collapsed": false
   }
  },
  {
   "cell_type": "code",
   "execution_count": 1,
   "outputs": [
    {
     "name": "stderr",
     "output_type": "stream",
     "text": [
      "/Users/shizhixu/opt/anaconda3/envs/csci5523/lib/python3.8/site-packages/IPython/core/interactiveshell.py:3155: DtypeWarning: Columns (3) have mixed types.Specify dtype option on import or set low_memory=False.\n",
      "  has_raised = await self.run_ast_nodes(code_ast.body, cell_name,\n"
     ]
    }
   ],
   "source": [
    "# Import packages\n",
    "import pandas as pd\n",
    "import numpy as np\n",
    "import seaborn as sns; sns.set()\n",
    "from matplotlib import pyplot as plt\n",
    "# Import datasets\n",
    "movies = pd.read_csv('dataset/IMDb movies.csv')\n",
    "ratings = pd.read_csv('dataset/IMDb ratings.csv')\n",
    "names = pd.read_csv('dataset/IMDb names.csv')"
   ],
   "metadata": {
    "collapsed": false,
    "pycharm": {
     "name": "#%%\n"
    }
   }
  },
  {
   "cell_type": "markdown",
   "source": [
    "We now present samples of each datasets."
   ],
   "metadata": {
    "collapsed": false
   }
  },
  {
   "cell_type": "code",
   "execution_count": 2,
   "outputs": [
    {
     "data": {
      "text/plain": "  imdb_title_id                        title               original_title  \\\n0     tt0000009                   Miss Jerry                   Miss Jerry   \n1     tt0000574  The Story of the Kelly Gang  The Story of the Kelly Gang   \n2     tt0001892               Den sorte drøm               Den sorte drøm   \n3     tt0002101                    Cleopatra                    Cleopatra   \n4     tt0002130                    L'Inferno                    L'Inferno   \n\n   year date_published                      genre  duration           country  \\\n0  1894     1894-10-09                    Romance        45               USA   \n1  1906     1906-12-26    Biography, Crime, Drama        70         Australia   \n2  1911     1911-08-19                      Drama        53  Germany, Denmark   \n3  1912     1912-11-13             Drama, History       100               USA   \n4  1911     1911-03-06  Adventure, Drama, Fantasy        68             Italy   \n\n  language                             director  ...  \\\n0     None                      Alexander Black  ...   \n1     None                         Charles Tait  ...   \n2      NaN                            Urban Gad  ...   \n3  English                   Charles L. Gaskill  ...   \n4  Italian  Francesco Bertolini, Adolfo Padovan  ...   \n\n                                              actors  \\\n0  Blanche Bayliss, William Courtenay, Chauncey D...   \n1  Elizabeth Tait, John Tait, Norman Campbell, Be...   \n2  Asta Nielsen, Valdemar Psilander, Gunnar Helse...   \n3  Helen Gardner, Pearl Sindelar, Miss Fielding, ...   \n4  Salvatore Papa, Arturo Pirovano, Giuseppe de L...   \n\n                                         description avg_vote votes   budget  \\\n0  The adventures of a female reporter in the 1890s.      5.9   154      NaN   \n1  True story of notorious Australian outlaw Ned ...      6.1   589   $ 2250   \n2  Two men of high rank are both wooing the beaut...      5.8   188      NaN   \n3  The fabled queen of Egypt's affair with Roman ...      5.2   446  $ 45000   \n4  Loosely adapted from Dante's Divine Comedy and...      7.0  2237      NaN   \n\n   usa_gross_income worlwide_gross_income metascore reviews_from_users  \\\n0               NaN                   NaN       NaN                1.0   \n1               NaN                   NaN       NaN                7.0   \n2               NaN                   NaN       NaN                5.0   \n3               NaN                   NaN       NaN               25.0   \n4               NaN                   NaN       NaN               31.0   \n\n   reviews_from_critics  \n0                   2.0  \n1                   7.0  \n2                   2.0  \n3                   3.0  \n4                  14.0  \n\n[5 rows x 22 columns]",
      "text/html": "<div>\n<style scoped>\n    .dataframe tbody tr th:only-of-type {\n        vertical-align: middle;\n    }\n\n    .dataframe tbody tr th {\n        vertical-align: top;\n    }\n\n    .dataframe thead th {\n        text-align: right;\n    }\n</style>\n<table border=\"1\" class=\"dataframe\">\n  <thead>\n    <tr style=\"text-align: right;\">\n      <th></th>\n      <th>imdb_title_id</th>\n      <th>title</th>\n      <th>original_title</th>\n      <th>year</th>\n      <th>date_published</th>\n      <th>genre</th>\n      <th>duration</th>\n      <th>country</th>\n      <th>language</th>\n      <th>director</th>\n      <th>...</th>\n      <th>actors</th>\n      <th>description</th>\n      <th>avg_vote</th>\n      <th>votes</th>\n      <th>budget</th>\n      <th>usa_gross_income</th>\n      <th>worlwide_gross_income</th>\n      <th>metascore</th>\n      <th>reviews_from_users</th>\n      <th>reviews_from_critics</th>\n    </tr>\n  </thead>\n  <tbody>\n    <tr>\n      <th>0</th>\n      <td>tt0000009</td>\n      <td>Miss Jerry</td>\n      <td>Miss Jerry</td>\n      <td>1894</td>\n      <td>1894-10-09</td>\n      <td>Romance</td>\n      <td>45</td>\n      <td>USA</td>\n      <td>None</td>\n      <td>Alexander Black</td>\n      <td>...</td>\n      <td>Blanche Bayliss, William Courtenay, Chauncey D...</td>\n      <td>The adventures of a female reporter in the 1890s.</td>\n      <td>5.9</td>\n      <td>154</td>\n      <td>NaN</td>\n      <td>NaN</td>\n      <td>NaN</td>\n      <td>NaN</td>\n      <td>1.0</td>\n      <td>2.0</td>\n    </tr>\n    <tr>\n      <th>1</th>\n      <td>tt0000574</td>\n      <td>The Story of the Kelly Gang</td>\n      <td>The Story of the Kelly Gang</td>\n      <td>1906</td>\n      <td>1906-12-26</td>\n      <td>Biography, Crime, Drama</td>\n      <td>70</td>\n      <td>Australia</td>\n      <td>None</td>\n      <td>Charles Tait</td>\n      <td>...</td>\n      <td>Elizabeth Tait, John Tait, Norman Campbell, Be...</td>\n      <td>True story of notorious Australian outlaw Ned ...</td>\n      <td>6.1</td>\n      <td>589</td>\n      <td>$ 2250</td>\n      <td>NaN</td>\n      <td>NaN</td>\n      <td>NaN</td>\n      <td>7.0</td>\n      <td>7.0</td>\n    </tr>\n    <tr>\n      <th>2</th>\n      <td>tt0001892</td>\n      <td>Den sorte drøm</td>\n      <td>Den sorte drøm</td>\n      <td>1911</td>\n      <td>1911-08-19</td>\n      <td>Drama</td>\n      <td>53</td>\n      <td>Germany, Denmark</td>\n      <td>NaN</td>\n      <td>Urban Gad</td>\n      <td>...</td>\n      <td>Asta Nielsen, Valdemar Psilander, Gunnar Helse...</td>\n      <td>Two men of high rank are both wooing the beaut...</td>\n      <td>5.8</td>\n      <td>188</td>\n      <td>NaN</td>\n      <td>NaN</td>\n      <td>NaN</td>\n      <td>NaN</td>\n      <td>5.0</td>\n      <td>2.0</td>\n    </tr>\n    <tr>\n      <th>3</th>\n      <td>tt0002101</td>\n      <td>Cleopatra</td>\n      <td>Cleopatra</td>\n      <td>1912</td>\n      <td>1912-11-13</td>\n      <td>Drama, History</td>\n      <td>100</td>\n      <td>USA</td>\n      <td>English</td>\n      <td>Charles L. Gaskill</td>\n      <td>...</td>\n      <td>Helen Gardner, Pearl Sindelar, Miss Fielding, ...</td>\n      <td>The fabled queen of Egypt's affair with Roman ...</td>\n      <td>5.2</td>\n      <td>446</td>\n      <td>$ 45000</td>\n      <td>NaN</td>\n      <td>NaN</td>\n      <td>NaN</td>\n      <td>25.0</td>\n      <td>3.0</td>\n    </tr>\n    <tr>\n      <th>4</th>\n      <td>tt0002130</td>\n      <td>L'Inferno</td>\n      <td>L'Inferno</td>\n      <td>1911</td>\n      <td>1911-03-06</td>\n      <td>Adventure, Drama, Fantasy</td>\n      <td>68</td>\n      <td>Italy</td>\n      <td>Italian</td>\n      <td>Francesco Bertolini, Adolfo Padovan</td>\n      <td>...</td>\n      <td>Salvatore Papa, Arturo Pirovano, Giuseppe de L...</td>\n      <td>Loosely adapted from Dante's Divine Comedy and...</td>\n      <td>7.0</td>\n      <td>2237</td>\n      <td>NaN</td>\n      <td>NaN</td>\n      <td>NaN</td>\n      <td>NaN</td>\n      <td>31.0</td>\n      <td>14.0</td>\n    </tr>\n  </tbody>\n</table>\n<p>5 rows × 22 columns</p>\n</div>"
     },
     "execution_count": 2,
     "metadata": {},
     "output_type": "execute_result"
    }
   ],
   "source": [
    "movies.head()"
   ],
   "metadata": {
    "collapsed": false,
    "pycharm": {
     "name": "#%%\n"
    }
   }
  },
  {
   "cell_type": "code",
   "execution_count": 3,
   "outputs": [
    {
     "data": {
      "text/plain": "  imdb_title_id  weighted_average_vote  total_votes  mean_vote  median_vote  \\\n0     tt0000009                    5.9          154        5.9          6.0   \n1     tt0000574                    6.1          589        6.3          6.0   \n2     tt0001892                    5.8          188        6.0          6.0   \n3     tt0002101                    5.2          446        5.3          5.0   \n4     tt0002130                    7.0         2237        6.9          7.0   \n\n   votes_10  votes_9  votes_8  votes_7  votes_6  ...  females_30age_avg_vote  \\\n0        12        4       10       43       28  ...                     5.7   \n1        57       18       58      137      139  ...                     6.2   \n2         6        6       17       44       52  ...                     5.8   \n3        15        8       16       62       98  ...                     5.5   \n4       210      225      436      641      344  ...                     7.3   \n\n   females_30age_votes  females_45age_avg_vote  females_45age_votes  \\\n0                 13.0                     4.5                  4.0   \n1                 23.0                     6.6                 14.0   \n2                  4.0                     6.8                  7.0   \n3                 14.0                     6.1                 21.0   \n4                 82.0                     7.4                 77.0   \n\n   top1000_voters_rating  top1000_voters_votes  us_voters_rating  \\\n0                    5.7                  34.0               6.4   \n1                    6.4                  66.0               6.0   \n2                    5.4                  32.0               6.2   \n3                    4.9                  57.0               5.5   \n4                    6.9                 139.0               7.0   \n\n   us_voters_votes  non_us_voters_rating  non_us_voters_votes  \n0             51.0                   6.0                 70.0  \n1             96.0                   6.2                331.0  \n2             31.0                   5.9                123.0  \n3            207.0                   4.7                105.0  \n4            488.0                   7.0               1166.0  \n\n[5 rows x 49 columns]",
      "text/html": "<div>\n<style scoped>\n    .dataframe tbody tr th:only-of-type {\n        vertical-align: middle;\n    }\n\n    .dataframe tbody tr th {\n        vertical-align: top;\n    }\n\n    .dataframe thead th {\n        text-align: right;\n    }\n</style>\n<table border=\"1\" class=\"dataframe\">\n  <thead>\n    <tr style=\"text-align: right;\">\n      <th></th>\n      <th>imdb_title_id</th>\n      <th>weighted_average_vote</th>\n      <th>total_votes</th>\n      <th>mean_vote</th>\n      <th>median_vote</th>\n      <th>votes_10</th>\n      <th>votes_9</th>\n      <th>votes_8</th>\n      <th>votes_7</th>\n      <th>votes_6</th>\n      <th>...</th>\n      <th>females_30age_avg_vote</th>\n      <th>females_30age_votes</th>\n      <th>females_45age_avg_vote</th>\n      <th>females_45age_votes</th>\n      <th>top1000_voters_rating</th>\n      <th>top1000_voters_votes</th>\n      <th>us_voters_rating</th>\n      <th>us_voters_votes</th>\n      <th>non_us_voters_rating</th>\n      <th>non_us_voters_votes</th>\n    </tr>\n  </thead>\n  <tbody>\n    <tr>\n      <th>0</th>\n      <td>tt0000009</td>\n      <td>5.9</td>\n      <td>154</td>\n      <td>5.9</td>\n      <td>6.0</td>\n      <td>12</td>\n      <td>4</td>\n      <td>10</td>\n      <td>43</td>\n      <td>28</td>\n      <td>...</td>\n      <td>5.7</td>\n      <td>13.0</td>\n      <td>4.5</td>\n      <td>4.0</td>\n      <td>5.7</td>\n      <td>34.0</td>\n      <td>6.4</td>\n      <td>51.0</td>\n      <td>6.0</td>\n      <td>70.0</td>\n    </tr>\n    <tr>\n      <th>1</th>\n      <td>tt0000574</td>\n      <td>6.1</td>\n      <td>589</td>\n      <td>6.3</td>\n      <td>6.0</td>\n      <td>57</td>\n      <td>18</td>\n      <td>58</td>\n      <td>137</td>\n      <td>139</td>\n      <td>...</td>\n      <td>6.2</td>\n      <td>23.0</td>\n      <td>6.6</td>\n      <td>14.0</td>\n      <td>6.4</td>\n      <td>66.0</td>\n      <td>6.0</td>\n      <td>96.0</td>\n      <td>6.2</td>\n      <td>331.0</td>\n    </tr>\n    <tr>\n      <th>2</th>\n      <td>tt0001892</td>\n      <td>5.8</td>\n      <td>188</td>\n      <td>6.0</td>\n      <td>6.0</td>\n      <td>6</td>\n      <td>6</td>\n      <td>17</td>\n      <td>44</td>\n      <td>52</td>\n      <td>...</td>\n      <td>5.8</td>\n      <td>4.0</td>\n      <td>6.8</td>\n      <td>7.0</td>\n      <td>5.4</td>\n      <td>32.0</td>\n      <td>6.2</td>\n      <td>31.0</td>\n      <td>5.9</td>\n      <td>123.0</td>\n    </tr>\n    <tr>\n      <th>3</th>\n      <td>tt0002101</td>\n      <td>5.2</td>\n      <td>446</td>\n      <td>5.3</td>\n      <td>5.0</td>\n      <td>15</td>\n      <td>8</td>\n      <td>16</td>\n      <td>62</td>\n      <td>98</td>\n      <td>...</td>\n      <td>5.5</td>\n      <td>14.0</td>\n      <td>6.1</td>\n      <td>21.0</td>\n      <td>4.9</td>\n      <td>57.0</td>\n      <td>5.5</td>\n      <td>207.0</td>\n      <td>4.7</td>\n      <td>105.0</td>\n    </tr>\n    <tr>\n      <th>4</th>\n      <td>tt0002130</td>\n      <td>7.0</td>\n      <td>2237</td>\n      <td>6.9</td>\n      <td>7.0</td>\n      <td>210</td>\n      <td>225</td>\n      <td>436</td>\n      <td>641</td>\n      <td>344</td>\n      <td>...</td>\n      <td>7.3</td>\n      <td>82.0</td>\n      <td>7.4</td>\n      <td>77.0</td>\n      <td>6.9</td>\n      <td>139.0</td>\n      <td>7.0</td>\n      <td>488.0</td>\n      <td>7.0</td>\n      <td>1166.0</td>\n    </tr>\n  </tbody>\n</table>\n<p>5 rows × 49 columns</p>\n</div>"
     },
     "execution_count": 3,
     "metadata": {},
     "output_type": "execute_result"
    }
   ],
   "source": [
    "ratings.head()"
   ],
   "metadata": {
    "collapsed": false,
    "pycharm": {
     "name": "#%%\n"
    }
   }
  },
  {
   "cell_type": "code",
   "execution_count": 4,
   "outputs": [
    {
     "data": {
      "text/plain": "  imdb_name_id             name               birth_name  height  \\\n0    nm0000001     Fred Astaire  Frederic Austerlitz Jr.   177.0   \n1    nm0000002    Lauren Bacall        Betty Joan Perske   174.0   \n2    nm0000003  Brigitte Bardot          Brigitte Bardot   166.0   \n3    nm0000004     John Belushi        John Adam Belushi   170.0   \n4    nm0000005   Ingmar Bergman     Ernst Ingmar Bergman   179.0   \n\n                                                 bio  \\\n0  Fred Astaire was born in Omaha, Nebraska, to J...   \n1  Lauren Bacall was born Betty Joan Perske on Se...   \n2  Brigitte Bardot was born on September 28, 1934...   \n3  John Belushi was born in Chicago, Illinois, US...   \n4  Ernst Ingmar Bergman was born July 14, 1918, t...   \n\n                                       birth_details date_of_birth  \\\n0               May 10, 1899 in Omaha, Nebraska, USA    1899-05-10   \n1  September 16, 1924 in The Bronx, New York City...    1924-09-16   \n2                September 28, 1934 in Paris, France    1934-09-28   \n3         January 24, 1949 in Chicago, Illinois, USA    1949-01-24   \n4      July 14, 1918 in Uppsala, Uppsala län, Sweden    1918-07-14   \n\n                            place_of_birth  \\\n0                     Omaha, Nebraska, USA   \n1  The Bronx, New York City, New York, USA   \n2                            Paris, France   \n3                   Chicago, Illinois, USA   \n4             Uppsala, Uppsala län, Sweden   \n\n                                       death_details date_of_death  \\\n0  June 22, 1987 in Los Angeles, California, USA ...    1987-06-22   \n1  August 12, 2014 in New York City, New York, US...    2014-08-12   \n2                                                NaN           NaN   \n3  March 5, 1982 in Hollywood, Los Angeles, Calif...    1982-03-05   \n4  July 30, 2007 in Fårö, Gotlands län, Sweden  (...    2007-07-30   \n\n                              place_of_death  \\\n0             Los Angeles, California, USA     \n1             New York City, New York, USA     \n2                                        NaN   \n3  Hollywood, Los Angeles, California, USA     \n4               Fårö, Gotlands län, Sweden     \n\n                         reason_of_death  \\\n0                              pneumonia   \n1                                 stroke   \n2                                    NaN   \n3  acute cocaine and heroin intoxication   \n4                         natural causes   \n\n                                      spouses_string  spouses  divorces  \\\n0  Robyn Smith  (27 June 1980 - 22 June 1987) (hi...        2         0   \n1  Jason Robards  (4 July 1961 - 10 September 196...        2         1   \n2  Bernard d'Ormale  (16 August 1992 - present)\\n...        4         3   \n3  Judith Belushi-Pisano  (31 December 1976 - 5 M...        1         0   \n4  Ingrid Bergman  (11 November 1971 - 20 May 199...        5         4   \n\n   spouses_with_children  children  \n0                      1         2  \n1                      2         3  \n2                      1         1  \n3                      0         0  \n4                      5         8  ",
      "text/html": "<div>\n<style scoped>\n    .dataframe tbody tr th:only-of-type {\n        vertical-align: middle;\n    }\n\n    .dataframe tbody tr th {\n        vertical-align: top;\n    }\n\n    .dataframe thead th {\n        text-align: right;\n    }\n</style>\n<table border=\"1\" class=\"dataframe\">\n  <thead>\n    <tr style=\"text-align: right;\">\n      <th></th>\n      <th>imdb_name_id</th>\n      <th>name</th>\n      <th>birth_name</th>\n      <th>height</th>\n      <th>bio</th>\n      <th>birth_details</th>\n      <th>date_of_birth</th>\n      <th>place_of_birth</th>\n      <th>death_details</th>\n      <th>date_of_death</th>\n      <th>place_of_death</th>\n      <th>reason_of_death</th>\n      <th>spouses_string</th>\n      <th>spouses</th>\n      <th>divorces</th>\n      <th>spouses_with_children</th>\n      <th>children</th>\n    </tr>\n  </thead>\n  <tbody>\n    <tr>\n      <th>0</th>\n      <td>nm0000001</td>\n      <td>Fred Astaire</td>\n      <td>Frederic Austerlitz Jr.</td>\n      <td>177.0</td>\n      <td>Fred Astaire was born in Omaha, Nebraska, to J...</td>\n      <td>May 10, 1899 in Omaha, Nebraska, USA</td>\n      <td>1899-05-10</td>\n      <td>Omaha, Nebraska, USA</td>\n      <td>June 22, 1987 in Los Angeles, California, USA ...</td>\n      <td>1987-06-22</td>\n      <td>Los Angeles, California, USA</td>\n      <td>pneumonia</td>\n      <td>Robyn Smith  (27 June 1980 - 22 June 1987) (hi...</td>\n      <td>2</td>\n      <td>0</td>\n      <td>1</td>\n      <td>2</td>\n    </tr>\n    <tr>\n      <th>1</th>\n      <td>nm0000002</td>\n      <td>Lauren Bacall</td>\n      <td>Betty Joan Perske</td>\n      <td>174.0</td>\n      <td>Lauren Bacall was born Betty Joan Perske on Se...</td>\n      <td>September 16, 1924 in The Bronx, New York City...</td>\n      <td>1924-09-16</td>\n      <td>The Bronx, New York City, New York, USA</td>\n      <td>August 12, 2014 in New York City, New York, US...</td>\n      <td>2014-08-12</td>\n      <td>New York City, New York, USA</td>\n      <td>stroke</td>\n      <td>Jason Robards  (4 July 1961 - 10 September 196...</td>\n      <td>2</td>\n      <td>1</td>\n      <td>2</td>\n      <td>3</td>\n    </tr>\n    <tr>\n      <th>2</th>\n      <td>nm0000003</td>\n      <td>Brigitte Bardot</td>\n      <td>Brigitte Bardot</td>\n      <td>166.0</td>\n      <td>Brigitte Bardot was born on September 28, 1934...</td>\n      <td>September 28, 1934 in Paris, France</td>\n      <td>1934-09-28</td>\n      <td>Paris, France</td>\n      <td>NaN</td>\n      <td>NaN</td>\n      <td>NaN</td>\n      <td>NaN</td>\n      <td>Bernard d'Ormale  (16 August 1992 - present)\\n...</td>\n      <td>4</td>\n      <td>3</td>\n      <td>1</td>\n      <td>1</td>\n    </tr>\n    <tr>\n      <th>3</th>\n      <td>nm0000004</td>\n      <td>John Belushi</td>\n      <td>John Adam Belushi</td>\n      <td>170.0</td>\n      <td>John Belushi was born in Chicago, Illinois, US...</td>\n      <td>January 24, 1949 in Chicago, Illinois, USA</td>\n      <td>1949-01-24</td>\n      <td>Chicago, Illinois, USA</td>\n      <td>March 5, 1982 in Hollywood, Los Angeles, Calif...</td>\n      <td>1982-03-05</td>\n      <td>Hollywood, Los Angeles, California, USA</td>\n      <td>acute cocaine and heroin intoxication</td>\n      <td>Judith Belushi-Pisano  (31 December 1976 - 5 M...</td>\n      <td>1</td>\n      <td>0</td>\n      <td>0</td>\n      <td>0</td>\n    </tr>\n    <tr>\n      <th>4</th>\n      <td>nm0000005</td>\n      <td>Ingmar Bergman</td>\n      <td>Ernst Ingmar Bergman</td>\n      <td>179.0</td>\n      <td>Ernst Ingmar Bergman was born July 14, 1918, t...</td>\n      <td>July 14, 1918 in Uppsala, Uppsala län, Sweden</td>\n      <td>1918-07-14</td>\n      <td>Uppsala, Uppsala län, Sweden</td>\n      <td>July 30, 2007 in Fårö, Gotlands län, Sweden  (...</td>\n      <td>2007-07-30</td>\n      <td>Fårö, Gotlands län, Sweden</td>\n      <td>natural causes</td>\n      <td>Ingrid Bergman  (11 November 1971 - 20 May 199...</td>\n      <td>5</td>\n      <td>4</td>\n      <td>5</td>\n      <td>8</td>\n    </tr>\n  </tbody>\n</table>\n</div>"
     },
     "execution_count": 4,
     "metadata": {},
     "output_type": "execute_result"
    }
   ],
   "source": [
    "names.head()"
   ],
   "metadata": {
    "collapsed": false,
    "pycharm": {
     "name": "#%%\n"
    }
   }
  },
  {
   "cell_type": "markdown",
   "source": [
    "## Data Analysis\n",
    "We now merge movies and ratings datasets together for analysis, training and testing.\n",
    "Firstly, combine them together and show results"
   ],
   "metadata": {
    "collapsed": false
   }
  },
  {
   "cell_type": "code",
   "execution_count": 5,
   "outputs": [
    {
     "name": "stdout",
     "output_type": "stream",
     "text": [
      "(85855, 70)\n"
     ]
    },
    {
     "data": {
      "text/plain": "  imdb_title_id                        title               original_title  \\\n0     tt0000009                   Miss Jerry                   Miss Jerry   \n1     tt0000574  The Story of the Kelly Gang  The Story of the Kelly Gang   \n2     tt0001892               Den sorte drøm               Den sorte drøm   \n3     tt0002101                    Cleopatra                    Cleopatra   \n4     tt0002130                    L'Inferno                    L'Inferno   \n\n   year date_published                      genre  duration           country  \\\n0  1894     1894-10-09                    Romance        45               USA   \n1  1906     1906-12-26    Biography, Crime, Drama        70         Australia   \n2  1911     1911-08-19                      Drama        53  Germany, Denmark   \n3  1912     1912-11-13             Drama, History       100               USA   \n4  1911     1911-03-06  Adventure, Drama, Fantasy        68             Italy   \n\n  language                             director  ... females_30age_avg_vote  \\\n0     None                      Alexander Black  ...                    5.7   \n1     None                         Charles Tait  ...                    6.2   \n2      NaN                            Urban Gad  ...                    5.8   \n3  English                   Charles L. Gaskill  ...                    5.5   \n4  Italian  Francesco Bertolini, Adolfo Padovan  ...                    7.3   \n\n  females_30age_votes females_45age_avg_vote females_45age_votes  \\\n0                13.0                    4.5                 4.0   \n1                23.0                    6.6                14.0   \n2                 4.0                    6.8                 7.0   \n3                14.0                    6.1                21.0   \n4                82.0                    7.4                77.0   \n\n   top1000_voters_rating  top1000_voters_votes us_voters_rating  \\\n0                    5.7                  34.0              6.4   \n1                    6.4                  66.0              6.0   \n2                    5.4                  32.0              6.2   \n3                    4.9                  57.0              5.5   \n4                    6.9                 139.0              7.0   \n\n  us_voters_votes non_us_voters_rating  non_us_voters_votes  \n0            51.0                  6.0                 70.0  \n1            96.0                  6.2                331.0  \n2            31.0                  5.9                123.0  \n3           207.0                  4.7                105.0  \n4           488.0                  7.0               1166.0  \n\n[5 rows x 70 columns]",
      "text/html": "<div>\n<style scoped>\n    .dataframe tbody tr th:only-of-type {\n        vertical-align: middle;\n    }\n\n    .dataframe tbody tr th {\n        vertical-align: top;\n    }\n\n    .dataframe thead th {\n        text-align: right;\n    }\n</style>\n<table border=\"1\" class=\"dataframe\">\n  <thead>\n    <tr style=\"text-align: right;\">\n      <th></th>\n      <th>imdb_title_id</th>\n      <th>title</th>\n      <th>original_title</th>\n      <th>year</th>\n      <th>date_published</th>\n      <th>genre</th>\n      <th>duration</th>\n      <th>country</th>\n      <th>language</th>\n      <th>director</th>\n      <th>...</th>\n      <th>females_30age_avg_vote</th>\n      <th>females_30age_votes</th>\n      <th>females_45age_avg_vote</th>\n      <th>females_45age_votes</th>\n      <th>top1000_voters_rating</th>\n      <th>top1000_voters_votes</th>\n      <th>us_voters_rating</th>\n      <th>us_voters_votes</th>\n      <th>non_us_voters_rating</th>\n      <th>non_us_voters_votes</th>\n    </tr>\n  </thead>\n  <tbody>\n    <tr>\n      <th>0</th>\n      <td>tt0000009</td>\n      <td>Miss Jerry</td>\n      <td>Miss Jerry</td>\n      <td>1894</td>\n      <td>1894-10-09</td>\n      <td>Romance</td>\n      <td>45</td>\n      <td>USA</td>\n      <td>None</td>\n      <td>Alexander Black</td>\n      <td>...</td>\n      <td>5.7</td>\n      <td>13.0</td>\n      <td>4.5</td>\n      <td>4.0</td>\n      <td>5.7</td>\n      <td>34.0</td>\n      <td>6.4</td>\n      <td>51.0</td>\n      <td>6.0</td>\n      <td>70.0</td>\n    </tr>\n    <tr>\n      <th>1</th>\n      <td>tt0000574</td>\n      <td>The Story of the Kelly Gang</td>\n      <td>The Story of the Kelly Gang</td>\n      <td>1906</td>\n      <td>1906-12-26</td>\n      <td>Biography, Crime, Drama</td>\n      <td>70</td>\n      <td>Australia</td>\n      <td>None</td>\n      <td>Charles Tait</td>\n      <td>...</td>\n      <td>6.2</td>\n      <td>23.0</td>\n      <td>6.6</td>\n      <td>14.0</td>\n      <td>6.4</td>\n      <td>66.0</td>\n      <td>6.0</td>\n      <td>96.0</td>\n      <td>6.2</td>\n      <td>331.0</td>\n    </tr>\n    <tr>\n      <th>2</th>\n      <td>tt0001892</td>\n      <td>Den sorte drøm</td>\n      <td>Den sorte drøm</td>\n      <td>1911</td>\n      <td>1911-08-19</td>\n      <td>Drama</td>\n      <td>53</td>\n      <td>Germany, Denmark</td>\n      <td>NaN</td>\n      <td>Urban Gad</td>\n      <td>...</td>\n      <td>5.8</td>\n      <td>4.0</td>\n      <td>6.8</td>\n      <td>7.0</td>\n      <td>5.4</td>\n      <td>32.0</td>\n      <td>6.2</td>\n      <td>31.0</td>\n      <td>5.9</td>\n      <td>123.0</td>\n    </tr>\n    <tr>\n      <th>3</th>\n      <td>tt0002101</td>\n      <td>Cleopatra</td>\n      <td>Cleopatra</td>\n      <td>1912</td>\n      <td>1912-11-13</td>\n      <td>Drama, History</td>\n      <td>100</td>\n      <td>USA</td>\n      <td>English</td>\n      <td>Charles L. Gaskill</td>\n      <td>...</td>\n      <td>5.5</td>\n      <td>14.0</td>\n      <td>6.1</td>\n      <td>21.0</td>\n      <td>4.9</td>\n      <td>57.0</td>\n      <td>5.5</td>\n      <td>207.0</td>\n      <td>4.7</td>\n      <td>105.0</td>\n    </tr>\n    <tr>\n      <th>4</th>\n      <td>tt0002130</td>\n      <td>L'Inferno</td>\n      <td>L'Inferno</td>\n      <td>1911</td>\n      <td>1911-03-06</td>\n      <td>Adventure, Drama, Fantasy</td>\n      <td>68</td>\n      <td>Italy</td>\n      <td>Italian</td>\n      <td>Francesco Bertolini, Adolfo Padovan</td>\n      <td>...</td>\n      <td>7.3</td>\n      <td>82.0</td>\n      <td>7.4</td>\n      <td>77.0</td>\n      <td>6.9</td>\n      <td>139.0</td>\n      <td>7.0</td>\n      <td>488.0</td>\n      <td>7.0</td>\n      <td>1166.0</td>\n    </tr>\n  </tbody>\n</table>\n<p>5 rows × 70 columns</p>\n</div>"
     },
     "execution_count": 5,
     "metadata": {},
     "output_type": "execute_result"
    }
   ],
   "source": [
    "# Merge!\n",
    "merged = pd.merge(left=movies, right=ratings, left_on='imdb_title_id', right_on='imdb_title_id')\n",
    "print(merged.shape)\n",
    "merged.head()"
   ],
   "metadata": {
    "collapsed": false,
    "pycharm": {
     "name": "#%%\n"
    }
   }
  },
  {
   "cell_type": "markdown",
   "source": [
    "We now clear the items with missing values and show amount of items left"
   ],
   "metadata": {
    "collapsed": false
   }
  },
  {
   "cell_type": "code",
   "execution_count": 6,
   "outputs": [
    {
     "name": "stdout",
     "output_type": "stream",
     "text": [
      "(4866, 70)\n"
     ]
    }
   ],
   "source": [
    "merged = merged.dropna(how='any',axis=0)\n",
    "print(merged.shape)"
   ],
   "metadata": {
    "collapsed": false,
    "pycharm": {
     "name": "#%%\n"
    }
   }
  },
  {
   "cell_type": "markdown",
   "source": [
    "In this step, we analyze data types of each column and see which should be dropped\n",
    "and which should be converted."
   ],
   "metadata": {
    "collapsed": false
   }
  },
  {
   "cell_type": "code",
   "execution_count": 7,
   "outputs": [
    {
     "name": "stdout",
     "output_type": "stream",
     "text": [
      "imdb_title_id                 object\n",
      "title                         object\n",
      "original_title                object\n",
      "year                          object\n",
      "date_published                object\n",
      "genre                         object\n",
      "duration                       int64\n",
      "country                       object\n",
      "language                      object\n",
      "director                      object\n",
      "writer                        object\n",
      "production_company            object\n",
      "actors                        object\n",
      "description                   object\n",
      "avg_vote                     float64\n",
      "votes                          int64\n",
      "budget                        object\n",
      "usa_gross_income              object\n",
      "worlwide_gross_income         object\n",
      "metascore                    float64\n",
      "reviews_from_users           float64\n",
      "reviews_from_critics         float64\n",
      "weighted_average_vote        float64\n",
      "total_votes                    int64\n",
      "mean_vote                    float64\n",
      "median_vote                  float64\n",
      "votes_10                       int64\n",
      "votes_9                        int64\n",
      "votes_8                        int64\n",
      "votes_7                        int64\n",
      "votes_6                        int64\n",
      "votes_5                        int64\n",
      "votes_4                        int64\n",
      "votes_3                        int64\n",
      "votes_2                        int64\n",
      "votes_1                        int64\n",
      "allgenders_0age_avg_vote     float64\n",
      "allgenders_0age_votes        float64\n",
      "allgenders_18age_avg_vote    float64\n",
      "allgenders_18age_votes       float64\n",
      "allgenders_30age_avg_vote    float64\n",
      "allgenders_30age_votes       float64\n",
      "allgenders_45age_avg_vote    float64\n",
      "allgenders_45age_votes       float64\n",
      "males_allages_avg_vote       float64\n",
      "males_allages_votes          float64\n",
      "males_0age_avg_vote          float64\n",
      "males_0age_votes             float64\n",
      "males_18age_avg_vote         float64\n",
      "males_18age_votes            float64\n",
      "males_30age_avg_vote         float64\n",
      "males_30age_votes            float64\n",
      "males_45age_avg_vote         float64\n",
      "males_45age_votes            float64\n",
      "females_allages_avg_vote     float64\n",
      "females_allages_votes        float64\n",
      "females_0age_avg_vote        float64\n",
      "females_0age_votes           float64\n",
      "females_18age_avg_vote       float64\n",
      "females_18age_votes          float64\n",
      "females_30age_avg_vote       float64\n",
      "females_30age_votes          float64\n",
      "females_45age_avg_vote       float64\n",
      "females_45age_votes          float64\n",
      "top1000_voters_rating        float64\n",
      "top1000_voters_votes         float64\n",
      "us_voters_rating             float64\n",
      "us_voters_votes              float64\n",
      "non_us_voters_rating         float64\n",
      "non_us_voters_votes          float64\n",
      "dtype: object\n"
     ]
    }
   ],
   "source": [
    "pd.set_option('display.max_rows', 70)\n",
    "print(merged.dtypes)\n",
    "pd.reset_option('display.max_rows')"
   ],
   "metadata": {
    "collapsed": false,
    "pycharm": {
     "name": "#%%\n"
    }
   }
  },
  {
   "cell_type": "markdown",
   "source": [
    "## Data Preprocessing\n",
    "\n",
    "Based on data above, we drop columns related to titles, description and publishing date since they have no contribution\n",
    "to our training and prediction. For publishing date, since we are more focusing on the year rather than the exact day\n",
    "of publication, it is dropped as well."
   ],
   "metadata": {
    "collapsed": false
   }
  },
  {
   "cell_type": "code",
   "execution_count": 8,
   "outputs": [],
   "source": [
    "# MergedMINI\n",
    "mergedmini = merged\n",
    "mergedmini = mergedmini.drop(['imdb_title_id', 'title', 'original_title', 'description', 'date_published'], axis=1)"
   ],
   "metadata": {
    "collapsed": false,
    "pycharm": {
     "name": "#%%\n"
    }
   }
  },
  {
   "cell_type": "markdown",
   "source": [
    "We now convert some data to int/ float types and other preprocessing steps. Here we transform\n",
    "production year to int and genre, country, language, directors, production company and writers to\n",
    "categorical data, then use digits to represent them for better training and testing results."
   ],
   "metadata": {
    "collapsed": false
   }
  },
  {
   "cell_type": "code",
   "execution_count": 9,
   "outputs": [],
   "source": [
    "# Remove movies published before 1970\n",
    "mergedmini = mergedmini.astype({'year' : 'int'})\n",
    "mergedmini = mergedmini[mergedmini['year'] > 1970]\n",
    "# Converting objects to discrete values Country, Language\n",
    "# Country first, then language\n",
    "mergedmini['country'] = mergedmini['country'].astype(\"category\")\n",
    "mergedmini['language'] = mergedmini['language'].astype(\"category\")\n",
    "mergedmini['country_code'] = mergedmini['country'].cat.codes\n",
    "mergedmini['lang_code'] = mergedmini['language'].cat.codes\n",
    "# Production Company\n",
    "mergedmini['production_company'] = mergedmini['production_company'].astype(\"category\")\n",
    "mergedmini['company_code'] = mergedmini['production_company'].cat.codes\n",
    "# Directors\n",
    "mergedmini['director'] = mergedmini['director'].astype(\"category\")\n",
    "mergedmini['director_code'] = mergedmini['director'].cat.codes\n",
    "# Writers\n",
    "mergedmini['writer'] = mergedmini['writer'].astype(\"category\")\n",
    "mergedmini['writer_code'] = mergedmini['writer'].cat.codes\n",
    "# Genres\n",
    "mergedmini['genre'] = mergedmini['genre'].astype(\"category\")\n",
    "mergedmini['genre_code'] = mergedmini['genre'].cat.codes\n",
    "# Actors\n",
    "mergedmini['actors'] = mergedmini['actors'].astype(\"category\")\n",
    "mergedmini['actors_code'] = mergedmini['actors'].cat.codes\n",
    "# Cleaning original attributes\n",
    "mergedmini = mergedmini.drop(['country', 'language', 'director', 'production_company', 'writer', 'genre', 'actors'], axis=1)"
   ],
   "metadata": {
    "collapsed": false,
    "pycharm": {
     "name": "#%%\n"
    }
   }
  },
  {
   "cell_type": "markdown",
   "source": [
    "Now we deal with budgets and incomes. All currency will be converted to USD."
   ],
   "metadata": {
    "collapsed": false
   }
  },
  {
   "cell_type": "code",
   "execution_count": 10,
   "outputs": [],
   "source": [
    "from currency_converter import CurrencyConverter\n",
    "import re\n",
    "\n",
    "# Grab only the currency attributes from the data.\n",
    "budget = mergedmini['budget']\n",
    "usa_gross_income = mergedmini['usa_gross_income']\n",
    "worldwide_gross_income = mergedmini['worlwide_gross_income']\n",
    "\n",
    "'''Use regular expressions to split the string into the currency code\n",
    "and the value.'''\n",
    "def split_currency_string(string):\n",
    "    \"\"\"Function takes a currency string and parses the currency code\n",
    "    and currency value and stores it in a tuple.\n",
    "    \"\"\"\n",
    "\n",
    "    match = re.match(r\"(\\$|[a-z]+) (\\d+)\", string, re.I)\n",
    "\n",
    "    if match:\n",
    "        items = match.groups()\n",
    "        return items\n",
    "\n",
    "c = CurrencyConverter()\n",
    "\n",
    "'''Some of the currency codes in the data set don't match up with the converter.\n",
    "We define a dictionary that contains those mis-labeled currency codes and\n",
    "map them to the correct currency code for the converter.\n",
    "'''\n",
    "currency_codes = {\n",
    "'$': 'USD',\n",
    "'RUR': 'RUB',\n",
    "}\n",
    "\n",
    "'''There are a few currencies in the data set that are obsolete. These are currencies that were\n",
    "used prior to the introduction of the Euro. This hash table maps each of the obsolete European\n",
    "currencies to their conversion rate to the Euro.\n",
    "'''\n",
    "obsolete_euro_currencies = {\n",
    "    'DEM': 0.511364,\n",
    "    'FRF': 0.152449,\n",
    "    'ITL': 0.000516457,\n",
    "    'BEF': 0.0247894,\n",
    "    'ESP': 0.00601012,\n",
    "    'ATS': 0.0726728,\n",
    "    'FIM': 0.168188\n",
    "}\n",
    "\n",
    "'''There are currencies in the data set that are not included in the currency converter. To\n",
    "bypass this problem, we map each of these currencies to their conversion rate to the Euro.\n",
    "'''\n",
    "other_currencies = {\n",
    "    'CLP': 0.0012,\n",
    "    'NGN': 0.0022,\n",
    "    'ARS': 0.0090,\n",
    "    'DOP': 0.015\n",
    "}\n",
    "\n",
    "def convert_currency_to_USD(currency_code: str, currency_value: str):\n",
    "    \"\"\"The function takes in two arguments, a currency code and a currency value,\n",
    "    and converts them to USD.\n",
    "    \"\"\"\n",
    "\n",
    "    if currency_code in currency_codes:\n",
    "        new_currency = (currency_codes[currency_code], currency_value)\n",
    "        converted_value = c.convert(int(new_currency[1]), new_currency[0], 'USD')\n",
    "    elif currency_code in obsolete_euro_currencies:\n",
    "        obsolete_currency = int(currency_value)                             # Grab the value of the obsolete currency.\n",
    "        euro = obsolete_currency * obsolete_euro_currencies[currency_code]  # Convert the deprecated currency value to the EUR.\n",
    "        converted_value = c.convert(euro, 'EUR', 'USD')                     # Convert EUR to USD.\n",
    "    elif currency_code in other_currencies:\n",
    "        other_currency = int(currency_value)\n",
    "        euro = other_currency * other_currencies[currency_code]\n",
    "        converted_value = c.convert(euro, 'EUR', 'USD')\n",
    "    else:\n",
    "        converted_value = c.convert(int(currency_value), currency_code, 'USD')  # Convert all currencies to USD.\n",
    "\n",
    "    return converted_value\n",
    "\n",
    "'''Since we are attempting to write back to the original data frame, we need to\n",
    "ensure that we disable the chained assignment protection in the Pandas options.\n",
    "'''\n",
    "pd.options.mode.chained_assignment = None  # default='warn'\n",
    "\n",
    "def currency_str_to_float(df, column_name):\n",
    "    \"\"\"Takes in a data frame and a column name. Converts each row into USD and\n",
    "    modifies the data frame in place.\n",
    "    \"\"\"\n",
    "\n",
    "    for i in range(0, len(df)):\n",
    "        currency = split_currency_string(df[column_name].iloc[i])       # Split the string into a code and value.\n",
    "        converted = convert_currency_to_USD(currency[0], currency[1])   # Convert the currency value to USD.\n",
    "        df[column_name].iloc[i] = converted                             # Apply the converted value to the data frame.\n",
    "\n",
    "currency_str_to_float(mergedmini, 'budget')                      # Convert Budget currencies to USD.\n",
    "currency_str_to_float(mergedmini, 'usa_gross_income')            # Convert USA Gross Income to USD.\n",
    "currency_str_to_float(mergedmini, 'worlwide_gross_income')       # Convert Worldwide Gross Income to USD.\n"
   ],
   "metadata": {
    "collapsed": false,
    "pycharm": {
     "name": "#%%\n"
    }
   }
  },
  {
   "cell_type": "markdown",
   "source": [
    "## Training and Prediction\n",
    "In this step, we try to use the dataset processed for training and prediction. We will separate the dataset with 70% for\n",
    "training and 30% for testing. We will set 10 bins for the final ratings from 0 to 10 with interval 1."
   ],
   "metadata": {
    "collapsed": false
   }
  },
  {
   "cell_type": "code",
   "execution_count": 11,
   "outputs": [
    {
     "data": {
      "text/plain": "KNeighborsClassifier()"
     },
     "execution_count": 11,
     "metadata": {},
     "output_type": "execute_result"
    }
   ],
   "source": [
    "from sklearn.model_selection import train_test_split, StratifiedKFold\n",
    "from sklearn.neighbors import KNeighborsClassifier\n",
    "from sklearn.preprocessing import StandardScaler\n",
    "\n",
    "labels = [1, 2, 3, 4, 5, 6, 7, 8, 9, 10]\n",
    "mergedmini['avg_vote_group'] = pd.cut(mergedmini['weighted_average_vote'], bins=10, labels=labels)\n",
    "y = mergedmini['avg_vote_group']\n",
    "mergedmini = mergedmini.drop(['weighted_average_vote'], axis=1)\n",
    "X_train, X_holdout, y_train, y_holdout = train_test_split(mergedmini.values, y, test_size=0.3,\n",
    "random_state=17)\n",
    "\n",
    "knn = KNeighborsClassifier(n_neighbors=5)\n",
    "scaler = StandardScaler()\n",
    "X_train_scaled = scaler.fit_transform(X_train)\n",
    "X_holdout_scaled = scaler.transform(X_holdout)\n",
    "knn.fit(X_train_scaled, y_train)"
   ],
   "metadata": {
    "collapsed": false,
    "pycharm": {
     "name": "#%%\n"
    }
   }
  },
  {
   "cell_type": "code",
   "execution_count": 12,
   "outputs": [
    {
     "name": "stdout",
     "output_type": "stream",
     "text": [
      " Accuracy for k-nn is 0.8806699232379623\n"
     ]
    }
   ],
   "source": [
    "from sklearn.metrics import accuracy_score\n",
    "# from sklearn.metrics import confusion_matrix\n",
    "knn_pred = knn.predict(X_holdout_scaled)\n",
    "print (f\" Accuracy for k-nn is {accuracy_score(y_holdout, knn_pred)}\")"
   ],
   "metadata": {
    "collapsed": false,
    "pycharm": {
     "name": "#%%\n"
    }
   }
  }
 ],
 "metadata": {
  "kernelspec": {
   "display_name": "Python 3",
   "language": "python",
   "name": "python3"
  },
  "language_info": {
   "codemirror_mode": {
    "name": "ipython",
    "version": 2
   },
   "file_extension": ".py",
   "mimetype": "text/x-python",
   "name": "python",
   "nbconvert_exporter": "python",
   "pygments_lexer": "ipython2",
   "version": "2.7.6"
  }
 },
 "nbformat": 4,
 "nbformat_minor": 0
}