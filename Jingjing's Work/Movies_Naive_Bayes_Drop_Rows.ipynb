{
 "cells": [
  {
   "cell_type": "markdown",
   "metadata": {},
   "source": [
    "# IMDB Movies_Drop Rows"
   ]
  },
  {
   "cell_type": "code",
   "execution_count": 132,
   "metadata": {},
   "outputs": [],
   "source": [
    "import pandas as pd\n",
    "import numpy as np"
   ]
  },
  {
   "cell_type": "code",
   "execution_count": 133,
   "metadata": {},
   "outputs": [],
   "source": [
    "movies = pd.read_csv('IMDb movies.csv',low_memory=False)"
   ]
  },
  {
   "cell_type": "code",
   "execution_count": 134,
   "metadata": {},
   "outputs": [
    {
     "data": {
      "text/html": [
       "<div>\n",
       "<style scoped>\n",
       "    .dataframe tbody tr th:only-of-type {\n",
       "        vertical-align: middle;\n",
       "    }\n",
       "\n",
       "    .dataframe tbody tr th {\n",
       "        vertical-align: top;\n",
       "    }\n",
       "\n",
       "    .dataframe thead th {\n",
       "        text-align: right;\n",
       "    }\n",
       "</style>\n",
       "<table border=\"1\" class=\"dataframe\">\n",
       "  <thead>\n",
       "    <tr style=\"text-align: right;\">\n",
       "      <th></th>\n",
       "      <th>imdb_title_id</th>\n",
       "      <th>title</th>\n",
       "      <th>original_title</th>\n",
       "      <th>year</th>\n",
       "      <th>date_published</th>\n",
       "      <th>genre</th>\n",
       "      <th>duration</th>\n",
       "      <th>country</th>\n",
       "      <th>language</th>\n",
       "      <th>director</th>\n",
       "      <th>...</th>\n",
       "      <th>actors</th>\n",
       "      <th>description</th>\n",
       "      <th>avg_vote</th>\n",
       "      <th>votes</th>\n",
       "      <th>budget</th>\n",
       "      <th>usa_gross_income</th>\n",
       "      <th>worlwide_gross_income</th>\n",
       "      <th>metascore</th>\n",
       "      <th>reviews_from_users</th>\n",
       "      <th>reviews_from_critics</th>\n",
       "    </tr>\n",
       "  </thead>\n",
       "  <tbody>\n",
       "    <tr>\n",
       "      <th>0</th>\n",
       "      <td>tt0000009</td>\n",
       "      <td>Miss Jerry</td>\n",
       "      <td>Miss Jerry</td>\n",
       "      <td>1894</td>\n",
       "      <td>1894-10-09</td>\n",
       "      <td>Romance</td>\n",
       "      <td>45</td>\n",
       "      <td>USA</td>\n",
       "      <td>None</td>\n",
       "      <td>Alexander Black</td>\n",
       "      <td>...</td>\n",
       "      <td>Blanche Bayliss, William Courtenay, Chauncey D...</td>\n",
       "      <td>The adventures of a female reporter in the 1890s.</td>\n",
       "      <td>5.9</td>\n",
       "      <td>154</td>\n",
       "      <td>NaN</td>\n",
       "      <td>NaN</td>\n",
       "      <td>NaN</td>\n",
       "      <td>NaN</td>\n",
       "      <td>1.0</td>\n",
       "      <td>2.0</td>\n",
       "    </tr>\n",
       "    <tr>\n",
       "      <th>1</th>\n",
       "      <td>tt0000574</td>\n",
       "      <td>The Story of the Kelly Gang</td>\n",
       "      <td>The Story of the Kelly Gang</td>\n",
       "      <td>1906</td>\n",
       "      <td>1906-12-26</td>\n",
       "      <td>Biography, Crime, Drama</td>\n",
       "      <td>70</td>\n",
       "      <td>Australia</td>\n",
       "      <td>None</td>\n",
       "      <td>Charles Tait</td>\n",
       "      <td>...</td>\n",
       "      <td>Elizabeth Tait, John Tait, Norman Campbell, Be...</td>\n",
       "      <td>True story of notorious Australian outlaw Ned ...</td>\n",
       "      <td>6.1</td>\n",
       "      <td>589</td>\n",
       "      <td>$ 2250</td>\n",
       "      <td>NaN</td>\n",
       "      <td>NaN</td>\n",
       "      <td>NaN</td>\n",
       "      <td>7.0</td>\n",
       "      <td>7.0</td>\n",
       "    </tr>\n",
       "    <tr>\n",
       "      <th>2</th>\n",
       "      <td>tt0001892</td>\n",
       "      <td>Den sorte drøm</td>\n",
       "      <td>Den sorte drøm</td>\n",
       "      <td>1911</td>\n",
       "      <td>1911-08-19</td>\n",
       "      <td>Drama</td>\n",
       "      <td>53</td>\n",
       "      <td>Germany, Denmark</td>\n",
       "      <td>NaN</td>\n",
       "      <td>Urban Gad</td>\n",
       "      <td>...</td>\n",
       "      <td>Asta Nielsen, Valdemar Psilander, Gunnar Helse...</td>\n",
       "      <td>Two men of high rank are both wooing the beaut...</td>\n",
       "      <td>5.8</td>\n",
       "      <td>188</td>\n",
       "      <td>NaN</td>\n",
       "      <td>NaN</td>\n",
       "      <td>NaN</td>\n",
       "      <td>NaN</td>\n",
       "      <td>5.0</td>\n",
       "      <td>2.0</td>\n",
       "    </tr>\n",
       "    <tr>\n",
       "      <th>3</th>\n",
       "      <td>tt0002101</td>\n",
       "      <td>Cleopatra</td>\n",
       "      <td>Cleopatra</td>\n",
       "      <td>1912</td>\n",
       "      <td>1912-11-13</td>\n",
       "      <td>Drama, History</td>\n",
       "      <td>100</td>\n",
       "      <td>USA</td>\n",
       "      <td>English</td>\n",
       "      <td>Charles L. Gaskill</td>\n",
       "      <td>...</td>\n",
       "      <td>Helen Gardner, Pearl Sindelar, Miss Fielding, ...</td>\n",
       "      <td>The fabled queen of Egypt's affair with Roman ...</td>\n",
       "      <td>5.2</td>\n",
       "      <td>446</td>\n",
       "      <td>$ 45000</td>\n",
       "      <td>NaN</td>\n",
       "      <td>NaN</td>\n",
       "      <td>NaN</td>\n",
       "      <td>25.0</td>\n",
       "      <td>3.0</td>\n",
       "    </tr>\n",
       "    <tr>\n",
       "      <th>4</th>\n",
       "      <td>tt0002130</td>\n",
       "      <td>L'Inferno</td>\n",
       "      <td>L'Inferno</td>\n",
       "      <td>1911</td>\n",
       "      <td>1911-03-06</td>\n",
       "      <td>Adventure, Drama, Fantasy</td>\n",
       "      <td>68</td>\n",
       "      <td>Italy</td>\n",
       "      <td>Italian</td>\n",
       "      <td>Francesco Bertolini, Adolfo Padovan</td>\n",
       "      <td>...</td>\n",
       "      <td>Salvatore Papa, Arturo Pirovano, Giuseppe de L...</td>\n",
       "      <td>Loosely adapted from Dante's Divine Comedy and...</td>\n",
       "      <td>7.0</td>\n",
       "      <td>2237</td>\n",
       "      <td>NaN</td>\n",
       "      <td>NaN</td>\n",
       "      <td>NaN</td>\n",
       "      <td>NaN</td>\n",
       "      <td>31.0</td>\n",
       "      <td>14.0</td>\n",
       "    </tr>\n",
       "  </tbody>\n",
       "</table>\n",
       "<p>5 rows × 22 columns</p>\n",
       "</div>"
      ],
      "text/plain": [
       "  imdb_title_id                        title               original_title  \\\n",
       "0     tt0000009                   Miss Jerry                   Miss Jerry   \n",
       "1     tt0000574  The Story of the Kelly Gang  The Story of the Kelly Gang   \n",
       "2     tt0001892               Den sorte drøm               Den sorte drøm   \n",
       "3     tt0002101                    Cleopatra                    Cleopatra   \n",
       "4     tt0002130                    L'Inferno                    L'Inferno   \n",
       "\n",
       "   year date_published                      genre  duration           country  \\\n",
       "0  1894     1894-10-09                    Romance        45               USA   \n",
       "1  1906     1906-12-26    Biography, Crime, Drama        70         Australia   \n",
       "2  1911     1911-08-19                      Drama        53  Germany, Denmark   \n",
       "3  1912     1912-11-13             Drama, History       100               USA   \n",
       "4  1911     1911-03-06  Adventure, Drama, Fantasy        68             Italy   \n",
       "\n",
       "  language                             director  ...  \\\n",
       "0     None                      Alexander Black  ...   \n",
       "1     None                         Charles Tait  ...   \n",
       "2      NaN                            Urban Gad  ...   \n",
       "3  English                   Charles L. Gaskill  ...   \n",
       "4  Italian  Francesco Bertolini, Adolfo Padovan  ...   \n",
       "\n",
       "                                              actors  \\\n",
       "0  Blanche Bayliss, William Courtenay, Chauncey D...   \n",
       "1  Elizabeth Tait, John Tait, Norman Campbell, Be...   \n",
       "2  Asta Nielsen, Valdemar Psilander, Gunnar Helse...   \n",
       "3  Helen Gardner, Pearl Sindelar, Miss Fielding, ...   \n",
       "4  Salvatore Papa, Arturo Pirovano, Giuseppe de L...   \n",
       "\n",
       "                                         description avg_vote votes   budget  \\\n",
       "0  The adventures of a female reporter in the 1890s.      5.9   154      NaN   \n",
       "1  True story of notorious Australian outlaw Ned ...      6.1   589   $ 2250   \n",
       "2  Two men of high rank are both wooing the beaut...      5.8   188      NaN   \n",
       "3  The fabled queen of Egypt's affair with Roman ...      5.2   446  $ 45000   \n",
       "4  Loosely adapted from Dante's Divine Comedy and...      7.0  2237      NaN   \n",
       "\n",
       "   usa_gross_income worlwide_gross_income metascore reviews_from_users  \\\n",
       "0               NaN                   NaN       NaN                1.0   \n",
       "1               NaN                   NaN       NaN                7.0   \n",
       "2               NaN                   NaN       NaN                5.0   \n",
       "3               NaN                   NaN       NaN               25.0   \n",
       "4               NaN                   NaN       NaN               31.0   \n",
       "\n",
       "   reviews_from_critics  \n",
       "0                   2.0  \n",
       "1                   7.0  \n",
       "2                   2.0  \n",
       "3                   3.0  \n",
       "4                  14.0  \n",
       "\n",
       "[5 rows x 22 columns]"
      ]
     },
     "execution_count": 134,
     "metadata": {},
     "output_type": "execute_result"
    }
   ],
   "source": [
    "movies.head()"
   ]
  },
  {
   "cell_type": "code",
   "execution_count": 135,
   "metadata": {},
   "outputs": [
    {
     "name": "stdout",
     "output_type": "stream",
     "text": [
      "<class 'pandas.core.frame.DataFrame'>\n",
      "RangeIndex: 85855 entries, 0 to 85854\n",
      "Data columns (total 22 columns):\n",
      " #   Column                 Non-Null Count  Dtype  \n",
      "---  ------                 --------------  -----  \n",
      " 0   imdb_title_id          85855 non-null  object \n",
      " 1   title                  85855 non-null  object \n",
      " 2   original_title         85855 non-null  object \n",
      " 3   year                   85855 non-null  object \n",
      " 4   date_published         85855 non-null  object \n",
      " 5   genre                  85855 non-null  object \n",
      " 6   duration               85855 non-null  int64  \n",
      " 7   country                85791 non-null  object \n",
      " 8   language               85022 non-null  object \n",
      " 9   director               85768 non-null  object \n",
      " 10  writer                 84283 non-null  object \n",
      " 11  production_company     81400 non-null  object \n",
      " 12  actors                 85786 non-null  object \n",
      " 13  description            83740 non-null  object \n",
      " 14  avg_vote               85855 non-null  float64\n",
      " 15  votes                  85855 non-null  int64  \n",
      " 16  budget                 23710 non-null  object \n",
      " 17  usa_gross_income       15326 non-null  object \n",
      " 18  worlwide_gross_income  31016 non-null  object \n",
      " 19  metascore              13305 non-null  float64\n",
      " 20  reviews_from_users     78258 non-null  float64\n",
      " 21  reviews_from_critics   74058 non-null  float64\n",
      "dtypes: float64(4), int64(2), object(16)\n",
      "memory usage: 14.4+ MB\n"
     ]
    }
   ],
   "source": [
    "movies.info()"
   ]
  },
  {
   "cell_type": "code",
   "execution_count": 136,
   "metadata": {},
   "outputs": [
    {
     "data": {
      "text/html": [
       "<div>\n",
       "<style scoped>\n",
       "    .dataframe tbody tr th:only-of-type {\n",
       "        vertical-align: middle;\n",
       "    }\n",
       "\n",
       "    .dataframe tbody tr th {\n",
       "        vertical-align: top;\n",
       "    }\n",
       "\n",
       "    .dataframe thead th {\n",
       "        text-align: right;\n",
       "    }\n",
       "</style>\n",
       "<table border=\"1\" class=\"dataframe\">\n",
       "  <thead>\n",
       "    <tr style=\"text-align: right;\">\n",
       "      <th></th>\n",
       "      <th>imdb_title_id</th>\n",
       "      <th>title</th>\n",
       "      <th>original_title</th>\n",
       "      <th>year</th>\n",
       "      <th>date_published</th>\n",
       "      <th>genre</th>\n",
       "      <th>duration</th>\n",
       "      <th>country</th>\n",
       "      <th>language</th>\n",
       "      <th>director</th>\n",
       "      <th>...</th>\n",
       "      <th>actors</th>\n",
       "      <th>description</th>\n",
       "      <th>avg_vote</th>\n",
       "      <th>votes</th>\n",
       "      <th>budget</th>\n",
       "      <th>usa_gross_income</th>\n",
       "      <th>worlwide_gross_income</th>\n",
       "      <th>metascore</th>\n",
       "      <th>reviews_from_users</th>\n",
       "      <th>reviews_from_critics</th>\n",
       "    </tr>\n",
       "  </thead>\n",
       "  <tbody>\n",
       "    <tr>\n",
       "      <th>count</th>\n",
       "      <td>85855</td>\n",
       "      <td>85855</td>\n",
       "      <td>85855</td>\n",
       "      <td>85855</td>\n",
       "      <td>85855</td>\n",
       "      <td>85855</td>\n",
       "      <td>85855.000000</td>\n",
       "      <td>85791</td>\n",
       "      <td>85022</td>\n",
       "      <td>85768</td>\n",
       "      <td>...</td>\n",
       "      <td>85786</td>\n",
       "      <td>83740</td>\n",
       "      <td>85855.000000</td>\n",
       "      <td>8.585500e+04</td>\n",
       "      <td>23710</td>\n",
       "      <td>15326</td>\n",
       "      <td>31016</td>\n",
       "      <td>13305.000000</td>\n",
       "      <td>78258.000000</td>\n",
       "      <td>74058.000000</td>\n",
       "    </tr>\n",
       "    <tr>\n",
       "      <th>unique</th>\n",
       "      <td>85855</td>\n",
       "      <td>82094</td>\n",
       "      <td>80852</td>\n",
       "      <td>113</td>\n",
       "      <td>22012</td>\n",
       "      <td>1257</td>\n",
       "      <td>NaN</td>\n",
       "      <td>4907</td>\n",
       "      <td>4377</td>\n",
       "      <td>34733</td>\n",
       "      <td>...</td>\n",
       "      <td>85729</td>\n",
       "      <td>83611</td>\n",
       "      <td>NaN</td>\n",
       "      <td>NaN</td>\n",
       "      <td>4642</td>\n",
       "      <td>14857</td>\n",
       "      <td>30414</td>\n",
       "      <td>NaN</td>\n",
       "      <td>NaN</td>\n",
       "      <td>NaN</td>\n",
       "    </tr>\n",
       "    <tr>\n",
       "      <th>top</th>\n",
       "      <td>tt0118608</td>\n",
       "      <td>Anna</td>\n",
       "      <td>Anna</td>\n",
       "      <td>2017</td>\n",
       "      <td>2010</td>\n",
       "      <td>Drama</td>\n",
       "      <td>NaN</td>\n",
       "      <td>USA</td>\n",
       "      <td>English</td>\n",
       "      <td>Jesús Franco</td>\n",
       "      <td>...</td>\n",
       "      <td>Nobuyo Ôyama, Noriko Ohara, Michiko Nomura, Ka...</td>\n",
       "      <td>The story of</td>\n",
       "      <td>NaN</td>\n",
       "      <td>NaN</td>\n",
       "      <td>$ 1000000</td>\n",
       "      <td>$ 1000000</td>\n",
       "      <td>$ 8144</td>\n",
       "      <td>NaN</td>\n",
       "      <td>NaN</td>\n",
       "      <td>NaN</td>\n",
       "    </tr>\n",
       "    <tr>\n",
       "      <th>freq</th>\n",
       "      <td>1</td>\n",
       "      <td>10</td>\n",
       "      <td>10</td>\n",
       "      <td>3329</td>\n",
       "      <td>113</td>\n",
       "      <td>12543</td>\n",
       "      <td>NaN</td>\n",
       "      <td>28511</td>\n",
       "      <td>35939</td>\n",
       "      <td>87</td>\n",
       "      <td>...</td>\n",
       "      <td>9</td>\n",
       "      <td>15</td>\n",
       "      <td>NaN</td>\n",
       "      <td>NaN</td>\n",
       "      <td>758</td>\n",
       "      <td>19</td>\n",
       "      <td>15</td>\n",
       "      <td>NaN</td>\n",
       "      <td>NaN</td>\n",
       "      <td>NaN</td>\n",
       "    </tr>\n",
       "    <tr>\n",
       "      <th>mean</th>\n",
       "      <td>NaN</td>\n",
       "      <td>NaN</td>\n",
       "      <td>NaN</td>\n",
       "      <td>NaN</td>\n",
       "      <td>NaN</td>\n",
       "      <td>NaN</td>\n",
       "      <td>100.351418</td>\n",
       "      <td>NaN</td>\n",
       "      <td>NaN</td>\n",
       "      <td>NaN</td>\n",
       "      <td>...</td>\n",
       "      <td>NaN</td>\n",
       "      <td>NaN</td>\n",
       "      <td>5.898656</td>\n",
       "      <td>9.493490e+03</td>\n",
       "      <td>NaN</td>\n",
       "      <td>NaN</td>\n",
       "      <td>NaN</td>\n",
       "      <td>55.896881</td>\n",
       "      <td>46.040826</td>\n",
       "      <td>27.479989</td>\n",
       "    </tr>\n",
       "    <tr>\n",
       "      <th>std</th>\n",
       "      <td>NaN</td>\n",
       "      <td>NaN</td>\n",
       "      <td>NaN</td>\n",
       "      <td>NaN</td>\n",
       "      <td>NaN</td>\n",
       "      <td>NaN</td>\n",
       "      <td>22.553848</td>\n",
       "      <td>NaN</td>\n",
       "      <td>NaN</td>\n",
       "      <td>NaN</td>\n",
       "      <td>...</td>\n",
       "      <td>NaN</td>\n",
       "      <td>NaN</td>\n",
       "      <td>1.234987</td>\n",
       "      <td>5.357436e+04</td>\n",
       "      <td>NaN</td>\n",
       "      <td>NaN</td>\n",
       "      <td>NaN</td>\n",
       "      <td>17.784874</td>\n",
       "      <td>178.511411</td>\n",
       "      <td>58.339158</td>\n",
       "    </tr>\n",
       "    <tr>\n",
       "      <th>min</th>\n",
       "      <td>NaN</td>\n",
       "      <td>NaN</td>\n",
       "      <td>NaN</td>\n",
       "      <td>NaN</td>\n",
       "      <td>NaN</td>\n",
       "      <td>NaN</td>\n",
       "      <td>41.000000</td>\n",
       "      <td>NaN</td>\n",
       "      <td>NaN</td>\n",
       "      <td>NaN</td>\n",
       "      <td>...</td>\n",
       "      <td>NaN</td>\n",
       "      <td>NaN</td>\n",
       "      <td>1.000000</td>\n",
       "      <td>9.900000e+01</td>\n",
       "      <td>NaN</td>\n",
       "      <td>NaN</td>\n",
       "      <td>NaN</td>\n",
       "      <td>1.000000</td>\n",
       "      <td>1.000000</td>\n",
       "      <td>1.000000</td>\n",
       "    </tr>\n",
       "    <tr>\n",
       "      <th>25%</th>\n",
       "      <td>NaN</td>\n",
       "      <td>NaN</td>\n",
       "      <td>NaN</td>\n",
       "      <td>NaN</td>\n",
       "      <td>NaN</td>\n",
       "      <td>NaN</td>\n",
       "      <td>88.000000</td>\n",
       "      <td>NaN</td>\n",
       "      <td>NaN</td>\n",
       "      <td>NaN</td>\n",
       "      <td>...</td>\n",
       "      <td>NaN</td>\n",
       "      <td>NaN</td>\n",
       "      <td>5.200000</td>\n",
       "      <td>2.050000e+02</td>\n",
       "      <td>NaN</td>\n",
       "      <td>NaN</td>\n",
       "      <td>NaN</td>\n",
       "      <td>43.000000</td>\n",
       "      <td>4.000000</td>\n",
       "      <td>3.000000</td>\n",
       "    </tr>\n",
       "    <tr>\n",
       "      <th>50%</th>\n",
       "      <td>NaN</td>\n",
       "      <td>NaN</td>\n",
       "      <td>NaN</td>\n",
       "      <td>NaN</td>\n",
       "      <td>NaN</td>\n",
       "      <td>NaN</td>\n",
       "      <td>96.000000</td>\n",
       "      <td>NaN</td>\n",
       "      <td>NaN</td>\n",
       "      <td>NaN</td>\n",
       "      <td>...</td>\n",
       "      <td>NaN</td>\n",
       "      <td>NaN</td>\n",
       "      <td>6.100000</td>\n",
       "      <td>4.840000e+02</td>\n",
       "      <td>NaN</td>\n",
       "      <td>NaN</td>\n",
       "      <td>NaN</td>\n",
       "      <td>57.000000</td>\n",
       "      <td>9.000000</td>\n",
       "      <td>8.000000</td>\n",
       "    </tr>\n",
       "    <tr>\n",
       "      <th>75%</th>\n",
       "      <td>NaN</td>\n",
       "      <td>NaN</td>\n",
       "      <td>NaN</td>\n",
       "      <td>NaN</td>\n",
       "      <td>NaN</td>\n",
       "      <td>NaN</td>\n",
       "      <td>108.000000</td>\n",
       "      <td>NaN</td>\n",
       "      <td>NaN</td>\n",
       "      <td>NaN</td>\n",
       "      <td>...</td>\n",
       "      <td>NaN</td>\n",
       "      <td>NaN</td>\n",
       "      <td>6.800000</td>\n",
       "      <td>1.766500e+03</td>\n",
       "      <td>NaN</td>\n",
       "      <td>NaN</td>\n",
       "      <td>NaN</td>\n",
       "      <td>69.000000</td>\n",
       "      <td>27.000000</td>\n",
       "      <td>23.000000</td>\n",
       "    </tr>\n",
       "    <tr>\n",
       "      <th>max</th>\n",
       "      <td>NaN</td>\n",
       "      <td>NaN</td>\n",
       "      <td>NaN</td>\n",
       "      <td>NaN</td>\n",
       "      <td>NaN</td>\n",
       "      <td>NaN</td>\n",
       "      <td>808.000000</td>\n",
       "      <td>NaN</td>\n",
       "      <td>NaN</td>\n",
       "      <td>NaN</td>\n",
       "      <td>...</td>\n",
       "      <td>NaN</td>\n",
       "      <td>NaN</td>\n",
       "      <td>9.900000</td>\n",
       "      <td>2.278845e+06</td>\n",
       "      <td>NaN</td>\n",
       "      <td>NaN</td>\n",
       "      <td>NaN</td>\n",
       "      <td>100.000000</td>\n",
       "      <td>10472.000000</td>\n",
       "      <td>999.000000</td>\n",
       "    </tr>\n",
       "  </tbody>\n",
       "</table>\n",
       "<p>11 rows × 22 columns</p>\n",
       "</div>"
      ],
      "text/plain": [
       "       imdb_title_id  title original_title   year date_published  genre  \\\n",
       "count          85855  85855          85855  85855          85855  85855   \n",
       "unique         85855  82094          80852    113          22012   1257   \n",
       "top        tt0118608   Anna           Anna   2017           2010  Drama   \n",
       "freq               1     10             10   3329            113  12543   \n",
       "mean             NaN    NaN            NaN    NaN            NaN    NaN   \n",
       "std              NaN    NaN            NaN    NaN            NaN    NaN   \n",
       "min              NaN    NaN            NaN    NaN            NaN    NaN   \n",
       "25%              NaN    NaN            NaN    NaN            NaN    NaN   \n",
       "50%              NaN    NaN            NaN    NaN            NaN    NaN   \n",
       "75%              NaN    NaN            NaN    NaN            NaN    NaN   \n",
       "max              NaN    NaN            NaN    NaN            NaN    NaN   \n",
       "\n",
       "            duration country language      director  ...  \\\n",
       "count   85855.000000   85791    85022         85768  ...   \n",
       "unique           NaN    4907     4377         34733  ...   \n",
       "top              NaN     USA  English  Jesús Franco  ...   \n",
       "freq             NaN   28511    35939            87  ...   \n",
       "mean      100.351418     NaN      NaN           NaN  ...   \n",
       "std        22.553848     NaN      NaN           NaN  ...   \n",
       "min        41.000000     NaN      NaN           NaN  ...   \n",
       "25%        88.000000     NaN      NaN           NaN  ...   \n",
       "50%        96.000000     NaN      NaN           NaN  ...   \n",
       "75%       108.000000     NaN      NaN           NaN  ...   \n",
       "max       808.000000     NaN      NaN           NaN  ...   \n",
       "\n",
       "                                                   actors   description  \\\n",
       "count                                               85786         83740   \n",
       "unique                                              85729         83611   \n",
       "top     Nobuyo Ôyama, Noriko Ohara, Michiko Nomura, Ka...  The story of   \n",
       "freq                                                    9            15   \n",
       "mean                                                  NaN           NaN   \n",
       "std                                                   NaN           NaN   \n",
       "min                                                   NaN           NaN   \n",
       "25%                                                   NaN           NaN   \n",
       "50%                                                   NaN           NaN   \n",
       "75%                                                   NaN           NaN   \n",
       "max                                                   NaN           NaN   \n",
       "\n",
       "            avg_vote         votes     budget  usa_gross_income  \\\n",
       "count   85855.000000  8.585500e+04      23710             15326   \n",
       "unique           NaN           NaN       4642             14857   \n",
       "top              NaN           NaN  $ 1000000         $ 1000000   \n",
       "freq             NaN           NaN        758                19   \n",
       "mean        5.898656  9.493490e+03        NaN               NaN   \n",
       "std         1.234987  5.357436e+04        NaN               NaN   \n",
       "min         1.000000  9.900000e+01        NaN               NaN   \n",
       "25%         5.200000  2.050000e+02        NaN               NaN   \n",
       "50%         6.100000  4.840000e+02        NaN               NaN   \n",
       "75%         6.800000  1.766500e+03        NaN               NaN   \n",
       "max         9.900000  2.278845e+06        NaN               NaN   \n",
       "\n",
       "       worlwide_gross_income     metascore reviews_from_users  \\\n",
       "count                  31016  13305.000000       78258.000000   \n",
       "unique                 30414           NaN                NaN   \n",
       "top                   $ 8144           NaN                NaN   \n",
       "freq                      15           NaN                NaN   \n",
       "mean                     NaN     55.896881          46.040826   \n",
       "std                      NaN     17.784874         178.511411   \n",
       "min                      NaN      1.000000           1.000000   \n",
       "25%                      NaN     43.000000           4.000000   \n",
       "50%                      NaN     57.000000           9.000000   \n",
       "75%                      NaN     69.000000          27.000000   \n",
       "max                      NaN    100.000000       10472.000000   \n",
       "\n",
       "        reviews_from_critics  \n",
       "count           74058.000000  \n",
       "unique                   NaN  \n",
       "top                      NaN  \n",
       "freq                     NaN  \n",
       "mean               27.479989  \n",
       "std                58.339158  \n",
       "min                 1.000000  \n",
       "25%                 3.000000  \n",
       "50%                 8.000000  \n",
       "75%                23.000000  \n",
       "max               999.000000  \n",
       "\n",
       "[11 rows x 22 columns]"
      ]
     },
     "execution_count": 136,
     "metadata": {},
     "output_type": "execute_result"
    }
   ],
   "source": [
    "movies.describe(include='all')"
   ]
  },
  {
   "cell_type": "markdown",
   "metadata": {},
   "source": [
    "# Preprocessing"
   ]
  },
  {
   "cell_type": "code",
   "execution_count": 137,
   "metadata": {},
   "outputs": [],
   "source": [
    "#drop na values\n",
    "movies.dropna(inplace = True)\n",
    "\n",
    "#drop columns won't be used\n",
    "movies.drop(columns = ['imdb_title_id', 'title', 'original_title', 'date_published', 'description'], inplace = True)"
   ]
  },
  {
   "cell_type": "code",
   "execution_count": 138,
   "metadata": {},
   "outputs": [
    {
     "name": "stdout",
     "output_type": "stream",
     "text": [
      "<class 'pandas.core.frame.DataFrame'>\n",
      "Int64Index: 6616 entries, 506 to 85740\n",
      "Data columns (total 17 columns):\n",
      " #   Column                 Non-Null Count  Dtype  \n",
      "---  ------                 --------------  -----  \n",
      " 0   year                   6616 non-null   object \n",
      " 1   genre                  6616 non-null   object \n",
      " 2   duration               6616 non-null   int64  \n",
      " 3   country                6616 non-null   object \n",
      " 4   language               6616 non-null   object \n",
      " 5   director               6616 non-null   object \n",
      " 6   writer                 6616 non-null   object \n",
      " 7   production_company     6616 non-null   object \n",
      " 8   actors                 6616 non-null   object \n",
      " 9   avg_vote               6616 non-null   float64\n",
      " 10  votes                  6616 non-null   int64  \n",
      " 11  budget                 6616 non-null   object \n",
      " 12  usa_gross_income       6616 non-null   object \n",
      " 13  worlwide_gross_income  6616 non-null   object \n",
      " 14  metascore              6616 non-null   float64\n",
      " 15  reviews_from_users     6616 non-null   float64\n",
      " 16  reviews_from_critics   6616 non-null   float64\n",
      "dtypes: float64(4), int64(2), object(11)\n",
      "memory usage: 930.4+ KB\n"
     ]
    }
   ],
   "source": [
    "movies.info()"
   ]
  },
  {
   "cell_type": "code",
   "execution_count": 139,
   "metadata": {},
   "outputs": [],
   "source": [
    "#convert'year'to int and filter records before 1970\n",
    "movies['year'] = movies['year'].astype(int)\n",
    "movies.drop(movies[movies['year']<1970].index, inplace = True)"
   ]
  },
  {
   "cell_type": "code",
   "execution_count": 140,
   "metadata": {},
   "outputs": [
    {
     "name": "stderr",
     "output_type": "stream",
     "text": [
      "<ipython-input-140-879768cfbbbf>:3: FutureWarning: Columnar iteration over characters will be deprecated in future releases.\n",
      "  movies['usa_income_symbol'], movies['usa_income_old'] = movies['usa_gross_income'].str.split(' ', 1).str\n",
      "<ipython-input-140-879768cfbbbf>:6: FutureWarning: Columnar iteration over characters will be deprecated in future releases.\n",
      "  movies['worlwide_income_symbol'], movies['worlwide_income_old'] = movies['worlwide_gross_income'].str.split(' ', 1).str\n",
      "<ipython-input-140-879768cfbbbf>:9: FutureWarning: Columnar iteration over characters will be deprecated in future releases.\n",
      "  movies['budget_symbol'], movies['budget_old'] = movies['budget'].str.split(' ', 1).str\n"
     ]
    }
   ],
   "source": [
    "#split coloumn 'usa_gross_income', 'worlwode_gross_income' and 'budget' into two columns\n",
    "\n",
    "movies['usa_income_symbol'], movies['usa_income_old'] = movies['usa_gross_income'].str.split(' ', 1).str\n",
    "movies['usa_income_old'] = movies['usa_income_old'].astype(float)\n",
    "\n",
    "movies['worlwide_income_symbol'], movies['worlwide_income_old'] = movies['worlwide_gross_income'].str.split(' ', 1).str\n",
    "movies['worlwide_income_old'] = movies['worlwide_income_old'].astype(float)\n",
    "\n",
    "movies['budget_symbol'], movies['budget_old'] = movies['budget'].str.split(' ', 1).str\n",
    "movies['budget_old'] = movies['budget_old'].astype(float) "
   ]
  },
  {
   "cell_type": "code",
   "execution_count": 141,
   "metadata": {},
   "outputs": [],
   "source": [
    "#currency converter\n",
    "from currency_converter import CurrencyConverter\n",
    "c = CurrencyConverter()\n",
    "\n",
    "movies['usa_income_symbol'] = movies['usa_income_symbol'].str.replace('$','USD')\n",
    "movies['usa_income_dollar'] = movies.apply(lambda movies: c.convert(movies['usa_income_old'],movies['usa_income_symbol'],new_currency='USD'),axis=1)\n",
    "\n",
    "movies['worlwide_income_symbol'] = movies['worlwide_income_symbol'].str.replace('$','USD')\n",
    "movies['worlwide_income_dollar'] = movies.apply(lambda movies: c.convert(movies['worlwide_income_old'],movies['worlwide_income_symbol'],new_currency='USD'),axis=1)\n",
    "\n",
    "movies['budget_symbol'] = movies['budget_symbol'].str.replace('$','USD')\n",
    "movies['budget_symbol'] = movies['budget_symbol'].str.replace('RUR','RUB')\n",
    "\n",
    "#define a function to deal with currencies not included in the CurrencyCinverter\n",
    "def convert_others_to_usd(symbol:str, old_value:float):\n",
    "    #currency rates are found in the website: https://www.xe.com/currencyconverter/convert/?Amount=1&From=DEM&To=USD\n",
    "    currencies = {\n",
    "        'DEM': 0.61261302,\n",
    "        'FRF': 0.182659,\n",
    "        'ITL': 0.000618802,\n",
    "        'BEF': 0.0297018,\n",
    "        'ESP': 0.00720113,\n",
    "        'ATS': 0.0870742, \n",
    "        'FIM': 0.201517,\n",
    "        'CLP': 0.00142245,\n",
    "        'NGN': 0.0026280674,\n",
    "        'ARS': 0.010775668,\n",
    "        'DOP': 0.017537532\n",
    "    }\n",
    "    if symbol in currencies:\n",
    "        converted_value = currencies[symbol] * old_value\n",
    "    else:\n",
    "        converted_value = c.convert(old_value, symbol, 'USD')\n",
    "    return converted_value\n",
    "\n",
    "movies['budget_dollar'] = movies.apply(lambda movies: convert_others_to_usd(movies['budget_symbol'],movies['budget_old']),axis=1)\n",
    "\n",
    "movies.drop(columns = ['usa_gross_income','usa_income_symbol','usa_income_old',\n",
    "                       'worlwide_gross_income','worlwide_income_symbol','worlwide_income_old',\n",
    "                       'budget','budget_symbol','budget_old'], inplace = True)\n"
   ]
  },
  {
   "cell_type": "code",
   "execution_count": 142,
   "metadata": {},
   "outputs": [
    {
     "name": "stdout",
     "output_type": "stream",
     "text": [
      "<class 'pandas.core.frame.DataFrame'>\n",
      "Int64Index: 6525 entries, 4334 to 85740\n",
      "Data columns (total 17 columns):\n",
      " #   Column                  Non-Null Count  Dtype  \n",
      "---  ------                  --------------  -----  \n",
      " 0   year                    6525 non-null   int64  \n",
      " 1   genre                   6525 non-null   object \n",
      " 2   duration                6525 non-null   int64  \n",
      " 3   country                 6525 non-null   object \n",
      " 4   language                6525 non-null   object \n",
      " 5   director                6525 non-null   object \n",
      " 6   writer                  6525 non-null   object \n",
      " 7   production_company      6525 non-null   object \n",
      " 8   actors                  6525 non-null   object \n",
      " 9   avg_vote                6525 non-null   float64\n",
      " 10  votes                   6525 non-null   int64  \n",
      " 11  metascore               6525 non-null   float64\n",
      " 12  reviews_from_users      6525 non-null   float64\n",
      " 13  reviews_from_critics    6525 non-null   float64\n",
      " 14  usa_income_dollar       6525 non-null   float64\n",
      " 15  worlwide_income_dollar  6525 non-null   float64\n",
      " 16  budget_dollar           6525 non-null   float64\n",
      "dtypes: float64(7), int64(3), object(7)\n",
      "memory usage: 917.6+ KB\n"
     ]
    }
   ],
   "source": [
    "movies.info()"
   ]
  },
  {
   "cell_type": "code",
   "execution_count": 143,
   "metadata": {},
   "outputs": [
    {
     "data": {
      "text/plain": [
       "0.725834514716797"
      ]
     },
     "execution_count": 143,
     "metadata": {},
     "output_type": "execute_result"
    }
   ],
   "source": [
    "#calculate correlation between 'age_vote' and 'metascore'\n",
    "movies['avg_vote'].corr(movies['metascore'])"
   ]
  },
  {
   "cell_type": "code",
   "execution_count": 144,
   "metadata": {},
   "outputs": [
    {
     "data": {
      "text/plain": [
       "0.04314846498721877"
      ]
     },
     "execution_count": 144,
     "metadata": {},
     "output_type": "execute_result"
    }
   ],
   "source": [
    "movies['avg_vote'].corr(movies['budget_dollar'])"
   ]
  },
  {
   "cell_type": "code",
   "execution_count": 145,
   "metadata": {},
   "outputs": [
    {
     "data": {
      "text/plain": [
       "0.19384483433306784"
      ]
     },
     "execution_count": 145,
     "metadata": {},
     "output_type": "execute_result"
    }
   ],
   "source": [
    "movies['avg_vote'].corr(movies['worlwide_income_dollar'])"
   ]
  },
  {
   "cell_type": "code",
   "execution_count": 146,
   "metadata": {},
   "outputs": [
    {
     "data": {
      "text/plain": [
       "0.20206827282680453"
      ]
     },
     "execution_count": 146,
     "metadata": {},
     "output_type": "execute_result"
    }
   ],
   "source": [
    "movies['avg_vote'].corr(movies['usa_income_dollar'])"
   ]
  },
  {
   "cell_type": "code",
   "execution_count": 147,
   "metadata": {},
   "outputs": [
    {
     "data": {
      "text/plain": [
       "0.2743986907309596"
      ]
     },
     "execution_count": 147,
     "metadata": {},
     "output_type": "execute_result"
    }
   ],
   "source": [
    "movies['avg_vote'].corr(movies['reviews_from_users'])"
   ]
  },
  {
   "cell_type": "code",
   "execution_count": 148,
   "metadata": {},
   "outputs": [
    {
     "data": {
      "text/plain": [
       "0.32339294138824565"
      ]
     },
     "execution_count": 148,
     "metadata": {},
     "output_type": "execute_result"
    }
   ],
   "source": [
    "movies['avg_vote'].corr(movies['reviews_from_critics'])"
   ]
  },
  {
   "cell_type": "code",
   "execution_count": 149,
   "metadata": {
    "scrolled": true
   },
   "outputs": [
    {
     "data": {
      "text/plain": [
       "0.4337963304104832"
      ]
     },
     "execution_count": 149,
     "metadata": {},
     "output_type": "execute_result"
    }
   ],
   "source": [
    "movies['avg_vote'].corr(movies['votes'])"
   ]
  },
  {
   "cell_type": "code",
   "execution_count": 150,
   "metadata": {
    "scrolled": true
   },
   "outputs": [
    {
     "data": {
      "text/plain": [
       "-0.1037084726912497"
      ]
     },
     "execution_count": 150,
     "metadata": {},
     "output_type": "execute_result"
    }
   ],
   "source": [
    "movies['avg_vote'].corr(movies['year'])"
   ]
  },
  {
   "cell_type": "markdown",
   "metadata": {},
   "source": [
    "# Naive Bayes"
   ]
  },
  {
   "cell_type": "code",
   "execution_count": 95,
   "metadata": {},
   "outputs": [],
   "source": [
    "label = pd.cut(movies['avg_vote'],5,right=True)\n",
    "movies = movies.drop(columns=['avg_vote'])\n",
    "\n",
    "#encode\n",
    "from sklearn.preprocessing import LabelEncoder\n",
    "le = LabelEncoder()\n",
    "movies = movies.apply(le.fit_transform)\n",
    "label = label.apply(le.fit_transform)"
   ]
  },
  {
   "cell_type": "code",
   "execution_count": 127,
   "metadata": {
    "scrolled": true
   },
   "outputs": [
    {
     "name": "stdout",
     "output_type": "stream",
     "text": [
      "(5220, 16)\n",
      "(1305, 16)\n",
      "(5220,)\n",
      "(1305,)\n"
     ]
    }
   ],
   "source": [
    "#split training and test sets\n",
    "from sklearn.model_selection import train_test_split\n",
    "movies_train, movies_test,label_train,label_test = train_test_split(movies, label,test_size=0.2, random_state=11)\n",
    "print(movies_train.shape)\n",
    "print(movies_test.shape)\n",
    "print(label_train.shape)\n",
    "print(label_test.shape)"
   ]
  },
  {
   "cell_type": "code",
   "execution_count": 128,
   "metadata": {},
   "outputs": [
    {
     "name": "stdout",
     "output_type": "stream",
     "text": [
      "Accuracy score: 0.644444\n"
     ]
    }
   ],
   "source": [
    "#CategoricalNB\n",
    "from sklearn.naive_bayes import CategoricalNB\n",
    "CNB = CategoricalNB()\n",
    "CNB.fit(movies_train,label_train)\n",
    "\n",
    "#evaluate the result\n",
    "print('Accuracy score: %f'%CNB.score(movies_test,label_test))"
   ]
  },
  {
   "cell_type": "code",
   "execution_count": 129,
   "metadata": {},
   "outputs": [
    {
     "name": "stdout",
     "output_type": "stream",
     "text": [
      "Accuracy score: 0.591571\n"
     ]
    }
   ],
   "source": [
    "#BernoulliNB\n",
    "from sklearn.naive_bayes import BernoulliNB\n",
    "BNB = BernoulliNB()\n",
    "BNB.fit(movies_train,label_train)\n",
    "\n",
    "#evaluate the result\n",
    "print('Accuracy score: %f'%BNB.score(movies_test,label_test))"
   ]
  },
  {
   "cell_type": "code",
   "execution_count": 130,
   "metadata": {},
   "outputs": [
    {
     "name": "stdout",
     "output_type": "stream",
     "text": [
      "Accuracy score: 0.519540\n"
     ]
    }
   ],
   "source": [
    "#GaussianNB\n",
    "from sklearn.naive_bayes import GaussianNB\n",
    "GNB = GaussianNB()\n",
    "GNB.fit(movies_train,label_train)\n",
    "\n",
    "#evaluate the ressult\n",
    "print('Accuracy score: %f'%GNB.score(movies_test,label_test))"
   ]
  },
  {
   "cell_type": "code",
   "execution_count": null,
   "metadata": {},
   "outputs": [],
   "source": []
  }
 ],
 "metadata": {
  "kernelspec": {
   "display_name": "Python 3",
   "language": "python",
   "name": "python3"
  },
  "language_info": {
   "codemirror_mode": {
    "name": "ipython",
    "version": 3
   },
   "file_extension": ".py",
   "mimetype": "text/x-python",
   "name": "python",
   "nbconvert_exporter": "python",
   "pygments_lexer": "ipython3",
   "version": "3.8.5"
  }
 },
 "nbformat": 4,
 "nbformat_minor": 4
}
