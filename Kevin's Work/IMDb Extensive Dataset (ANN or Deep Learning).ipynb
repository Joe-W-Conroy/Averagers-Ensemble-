{
 "cells": [
  {
   "cell_type": "markdown",
   "metadata": {
    "collapsed": true,
    "pycharm": {
     "name": "#%% md\n"
    }
   },
   "source": [
    "# IMDb Movie Ratings Classification"
   ]
  },
  {
   "cell_type": "markdown",
   "metadata": {
    "pycharm": {
     "name": "#%% md\n"
    }
   },
   "source": [
    "## Goal\n",
    "\n",
    "*To develop and train a classification model to help predict the average user rating for a given movie. This model aims to assist those in the movie industry by attempting to predict how well their movies might do. In addition, it may help directors focus on attributes that will reliably produce the highest score possible. A successful classification model will be able to accurately predict average user ratings of movies on IMDb given these sorts of attributes.*\n",
    "<hr>"
   ]
  },
  {
   "cell_type": "markdown",
   "metadata": {
    "pycharm": {
     "name": "#%% md\n"
    }
   },
   "source": [
    "## Dataset Description\n",
    "\n",
    ">**Context:**\n",
    ">*IMDb is the most popular movie website and it combines movie plot description, Metastore ratings, critic and user ratings and reviews, release dates, and many more aspects. The website is well known for storing almost every movie that has ever been released (the oldest is from 1874 - \"Passage de Venus\") or just planned to be released (the newest movie is from 2027 - \"Avatar 5\"). IMDb stores information related to more than 6 million titles (of which almost 500,000 are featured films), and it has been owned by Amazon since 1998.*\n",
    "\n",
    ">**Content:**\n",
    "> *The movies dataset includes 85,855 movies with attributes such as movie description, average rating, number of votes, genre, etc. The ratings dataset includes 85,855 rating details from demographic perspective. The names dataset includes 297,705 cast members with personal attributes such as birth details, death details, height, spouses, children, etc. The title principals dataset includes 835,513 cast members roles in movies with attributes such as IMDb title id, IMDb name id, order of importance in the movie, role, and characters played.*\n",
    "\n",
    "<hr>"
   ]
  },
  {
   "cell_type": "markdown",
   "metadata": {
    "pycharm": {
     "name": "#%% md\n"
    }
   },
   "source": [
    "## Loading the data\n",
    "<hr>"
   ]
  },
  {
   "cell_type": "code",
   "execution_count": 496,
   "metadata": {
    "pycharm": {
     "name": "#%%\n"
    }
   },
   "outputs": [
    {
     "data": {
      "text/plain": "  imdb_title_id                        title               original_title  \\\n0     tt0000009                   Miss Jerry                   Miss Jerry   \n1     tt0000574  The Story of the Kelly Gang  The Story of the Kelly Gang   \n2     tt0001892               Den sorte drøm               Den sorte drøm   \n3     tt0002101                    Cleopatra                    Cleopatra   \n4     tt0002130                    L'Inferno                    L'Inferno   \n\n   year date_published                      genre  duration           country  \\\n0  1894     1894-10-09                    Romance        45               USA   \n1  1906     1906-12-26    Biography, Crime, Drama        70         Australia   \n2  1911     1911-08-19                      Drama        53  Germany, Denmark   \n3  1912     1912-11-13             Drama, History       100               USA   \n4  1911     1911-03-06  Adventure, Drama, Fantasy        68             Italy   \n\n  language                             director  ...  \\\n0     None                      Alexander Black  ...   \n1     None                         Charles Tait  ...   \n2      NaN                            Urban Gad  ...   \n3  English                   Charles L. Gaskill  ...   \n4  Italian  Francesco Bertolini, Adolfo Padovan  ...   \n\n                                              actors  \\\n0  Blanche Bayliss, William Courtenay, Chauncey D...   \n1  Elizabeth Tait, John Tait, Norman Campbell, Be...   \n2  Asta Nielsen, Valdemar Psilander, Gunnar Helse...   \n3  Helen Gardner, Pearl Sindelar, Miss Fielding, ...   \n4  Salvatore Papa, Arturo Pirovano, Giuseppe de L...   \n\n                                         description avg_vote votes   budget  \\\n0  The adventures of a female reporter in the 1890s.      5.9   154      NaN   \n1  True story of notorious Australian outlaw Ned ...      6.1   589   $ 2250   \n2  Two men of high rank are both wooing the beaut...      5.8   188      NaN   \n3  The fabled queen of Egypt's affair with Roman ...      5.2   446  $ 45000   \n4  Loosely adapted from Dante's Divine Comedy and...      7.0  2237      NaN   \n\n   usa_gross_income worlwide_gross_income metascore reviews_from_users  \\\n0               NaN                   NaN       NaN                1.0   \n1               NaN                   NaN       NaN                7.0   \n2               NaN                   NaN       NaN                5.0   \n3               NaN                   NaN       NaN               25.0   \n4               NaN                   NaN       NaN               31.0   \n\n   reviews_from_critics  \n0                   2.0  \n1                   7.0  \n2                   2.0  \n3                   3.0  \n4                  14.0  \n\n[5 rows x 22 columns]",
      "text/html": "<div>\n<style scoped>\n    .dataframe tbody tr th:only-of-type {\n        vertical-align: middle;\n    }\n\n    .dataframe tbody tr th {\n        vertical-align: top;\n    }\n\n    .dataframe thead th {\n        text-align: right;\n    }\n</style>\n<table border=\"1\" class=\"dataframe\">\n  <thead>\n    <tr style=\"text-align: right;\">\n      <th></th>\n      <th>imdb_title_id</th>\n      <th>title</th>\n      <th>original_title</th>\n      <th>year</th>\n      <th>date_published</th>\n      <th>genre</th>\n      <th>duration</th>\n      <th>country</th>\n      <th>language</th>\n      <th>director</th>\n      <th>...</th>\n      <th>actors</th>\n      <th>description</th>\n      <th>avg_vote</th>\n      <th>votes</th>\n      <th>budget</th>\n      <th>usa_gross_income</th>\n      <th>worlwide_gross_income</th>\n      <th>metascore</th>\n      <th>reviews_from_users</th>\n      <th>reviews_from_critics</th>\n    </tr>\n  </thead>\n  <tbody>\n    <tr>\n      <th>0</th>\n      <td>tt0000009</td>\n      <td>Miss Jerry</td>\n      <td>Miss Jerry</td>\n      <td>1894</td>\n      <td>1894-10-09</td>\n      <td>Romance</td>\n      <td>45</td>\n      <td>USA</td>\n      <td>None</td>\n      <td>Alexander Black</td>\n      <td>...</td>\n      <td>Blanche Bayliss, William Courtenay, Chauncey D...</td>\n      <td>The adventures of a female reporter in the 1890s.</td>\n      <td>5.9</td>\n      <td>154</td>\n      <td>NaN</td>\n      <td>NaN</td>\n      <td>NaN</td>\n      <td>NaN</td>\n      <td>1.0</td>\n      <td>2.0</td>\n    </tr>\n    <tr>\n      <th>1</th>\n      <td>tt0000574</td>\n      <td>The Story of the Kelly Gang</td>\n      <td>The Story of the Kelly Gang</td>\n      <td>1906</td>\n      <td>1906-12-26</td>\n      <td>Biography, Crime, Drama</td>\n      <td>70</td>\n      <td>Australia</td>\n      <td>None</td>\n      <td>Charles Tait</td>\n      <td>...</td>\n      <td>Elizabeth Tait, John Tait, Norman Campbell, Be...</td>\n      <td>True story of notorious Australian outlaw Ned ...</td>\n      <td>6.1</td>\n      <td>589</td>\n      <td>$ 2250</td>\n      <td>NaN</td>\n      <td>NaN</td>\n      <td>NaN</td>\n      <td>7.0</td>\n      <td>7.0</td>\n    </tr>\n    <tr>\n      <th>2</th>\n      <td>tt0001892</td>\n      <td>Den sorte drøm</td>\n      <td>Den sorte drøm</td>\n      <td>1911</td>\n      <td>1911-08-19</td>\n      <td>Drama</td>\n      <td>53</td>\n      <td>Germany, Denmark</td>\n      <td>NaN</td>\n      <td>Urban Gad</td>\n      <td>...</td>\n      <td>Asta Nielsen, Valdemar Psilander, Gunnar Helse...</td>\n      <td>Two men of high rank are both wooing the beaut...</td>\n      <td>5.8</td>\n      <td>188</td>\n      <td>NaN</td>\n      <td>NaN</td>\n      <td>NaN</td>\n      <td>NaN</td>\n      <td>5.0</td>\n      <td>2.0</td>\n    </tr>\n    <tr>\n      <th>3</th>\n      <td>tt0002101</td>\n      <td>Cleopatra</td>\n      <td>Cleopatra</td>\n      <td>1912</td>\n      <td>1912-11-13</td>\n      <td>Drama, History</td>\n      <td>100</td>\n      <td>USA</td>\n      <td>English</td>\n      <td>Charles L. Gaskill</td>\n      <td>...</td>\n      <td>Helen Gardner, Pearl Sindelar, Miss Fielding, ...</td>\n      <td>The fabled queen of Egypt's affair with Roman ...</td>\n      <td>5.2</td>\n      <td>446</td>\n      <td>$ 45000</td>\n      <td>NaN</td>\n      <td>NaN</td>\n      <td>NaN</td>\n      <td>25.0</td>\n      <td>3.0</td>\n    </tr>\n    <tr>\n      <th>4</th>\n      <td>tt0002130</td>\n      <td>L'Inferno</td>\n      <td>L'Inferno</td>\n      <td>1911</td>\n      <td>1911-03-06</td>\n      <td>Adventure, Drama, Fantasy</td>\n      <td>68</td>\n      <td>Italy</td>\n      <td>Italian</td>\n      <td>Francesco Bertolini, Adolfo Padovan</td>\n      <td>...</td>\n      <td>Salvatore Papa, Arturo Pirovano, Giuseppe de L...</td>\n      <td>Loosely adapted from Dante's Divine Comedy and...</td>\n      <td>7.0</td>\n      <td>2237</td>\n      <td>NaN</td>\n      <td>NaN</td>\n      <td>NaN</td>\n      <td>NaN</td>\n      <td>31.0</td>\n      <td>14.0</td>\n    </tr>\n  </tbody>\n</table>\n<p>5 rows × 22 columns</p>\n</div>"
     },
     "execution_count": 496,
     "metadata": {},
     "output_type": "execute_result"
    }
   ],
   "source": [
    "import numpy as np\n",
    "import pandas as pd\n",
    "\n",
    "data = pd.read_csv(\"IMDb movies.csv\", low_memory=False)\n",
    "data.head()"
   ]
  },
  {
   "cell_type": "markdown",
   "metadata": {
    "pycharm": {
     "name": "#%% md\n"
    }
   },
   "source": [
    "# Data Pre-processing\n",
    "\n",
    "Ideally, we want a data set with no missing values so that the classification model has more consistent performance. Since the dataset is quite large (80,000+ records), we can discard some of the records which contain missing values for important attributes, such as \"USA Gross Income\" and \"Metascore\".\n",
    "<hr>"
   ]
  },
  {
   "cell_type": "code",
   "execution_count": 497,
   "metadata": {
    "pycharm": {
     "name": "#%%\n"
    }
   },
   "outputs": [
    {
     "data": {
      "text/plain": "     imdb_title_id                   original_title  year  \\\n506      tt0017136                       Metropolis  1927   \n1048     tt0021749                      City Lights  1931   \n2454     tt0027977                     Modern Times  1936   \n2795     tt0029453                     Pépé le Moko  1937   \n2827     tt0029583  Snow White and the Seven Dwarfs  1937   \n\n                           genre  duration  country        language  \\\n506                Drama, Sci-Fi       153  Germany          German   \n1048      Comedy, Drama, Romance        87      USA         English   \n2454       Comedy, Drama, Family        87      USA         English   \n2795       Crime, Drama, Romance        94   France  French, Arabic   \n2827  Animation, Family, Fantasy        83      USA         English   \n\n                          director                            writer  \\\n506                     Fritz Lang  Thea von Harbou, Thea von Harbou   \n1048               Charles Chaplin                   Charles Chaplin   \n2454               Charles Chaplin                   Charles Chaplin   \n2795               Julien Duvivier  Henri La Barthe, Henri La Barthe   \n2827  William Cottrell, David Hand        Jacob Grimm, Wilhelm Grimm   \n\n                                                 actors  avg_vote   votes  \\\n506   Alfred Abel, Gustav Fröhlich, Rudolf Klein-Rog...       8.3  156076   \n1048  Virginia Cherrill, Florence Lee, Harry Myers, ...       8.5  162668   \n2454  Charles Chaplin, Paulette Goddard, Henry Bergm...       8.5  211250   \n2795  Jean Gabin, Gabriel Gabrio, Saturnin Fabre, Fe...       7.7    6180   \n2827  Roy Atwell, Stuart Buchanan, Adriana Caselotti...       7.6  177157   \n\n           budget usa_gross_income worlwide_gross_income  metascore  \\\n506   DEM 6000000        $ 1236166             $ 1349711       98.0   \n1048    $ 1500000          $ 19181               $ 46008       99.0   \n2454    $ 1500000         $ 163577              $ 457688       96.0   \n2795      $ 60000         $ 155895              $ 155895       98.0   \n2827    $ 1499000      $ 184925486           $ 184925486       95.0   \n\n      reviews_from_users  reviews_from_critics  \n506                495.0                 208.0  \n1048               295.0                 122.0  \n2454               307.0                 115.0  \n2795                46.0                  55.0  \n2827               260.0                 173.0  ",
      "text/html": "<div>\n<style scoped>\n    .dataframe tbody tr th:only-of-type {\n        vertical-align: middle;\n    }\n\n    .dataframe tbody tr th {\n        vertical-align: top;\n    }\n\n    .dataframe thead th {\n        text-align: right;\n    }\n</style>\n<table border=\"1\" class=\"dataframe\">\n  <thead>\n    <tr style=\"text-align: right;\">\n      <th></th>\n      <th>imdb_title_id</th>\n      <th>original_title</th>\n      <th>year</th>\n      <th>genre</th>\n      <th>duration</th>\n      <th>country</th>\n      <th>language</th>\n      <th>director</th>\n      <th>writer</th>\n      <th>actors</th>\n      <th>avg_vote</th>\n      <th>votes</th>\n      <th>budget</th>\n      <th>usa_gross_income</th>\n      <th>worlwide_gross_income</th>\n      <th>metascore</th>\n      <th>reviews_from_users</th>\n      <th>reviews_from_critics</th>\n    </tr>\n  </thead>\n  <tbody>\n    <tr>\n      <th>506</th>\n      <td>tt0017136</td>\n      <td>Metropolis</td>\n      <td>1927</td>\n      <td>Drama, Sci-Fi</td>\n      <td>153</td>\n      <td>Germany</td>\n      <td>German</td>\n      <td>Fritz Lang</td>\n      <td>Thea von Harbou, Thea von Harbou</td>\n      <td>Alfred Abel, Gustav Fröhlich, Rudolf Klein-Rog...</td>\n      <td>8.3</td>\n      <td>156076</td>\n      <td>DEM 6000000</td>\n      <td>$ 1236166</td>\n      <td>$ 1349711</td>\n      <td>98.0</td>\n      <td>495.0</td>\n      <td>208.0</td>\n    </tr>\n    <tr>\n      <th>1048</th>\n      <td>tt0021749</td>\n      <td>City Lights</td>\n      <td>1931</td>\n      <td>Comedy, Drama, Romance</td>\n      <td>87</td>\n      <td>USA</td>\n      <td>English</td>\n      <td>Charles Chaplin</td>\n      <td>Charles Chaplin</td>\n      <td>Virginia Cherrill, Florence Lee, Harry Myers, ...</td>\n      <td>8.5</td>\n      <td>162668</td>\n      <td>$ 1500000</td>\n      <td>$ 19181</td>\n      <td>$ 46008</td>\n      <td>99.0</td>\n      <td>295.0</td>\n      <td>122.0</td>\n    </tr>\n    <tr>\n      <th>2454</th>\n      <td>tt0027977</td>\n      <td>Modern Times</td>\n      <td>1936</td>\n      <td>Comedy, Drama, Family</td>\n      <td>87</td>\n      <td>USA</td>\n      <td>English</td>\n      <td>Charles Chaplin</td>\n      <td>Charles Chaplin</td>\n      <td>Charles Chaplin, Paulette Goddard, Henry Bergm...</td>\n      <td>8.5</td>\n      <td>211250</td>\n      <td>$ 1500000</td>\n      <td>$ 163577</td>\n      <td>$ 457688</td>\n      <td>96.0</td>\n      <td>307.0</td>\n      <td>115.0</td>\n    </tr>\n    <tr>\n      <th>2795</th>\n      <td>tt0029453</td>\n      <td>Pépé le Moko</td>\n      <td>1937</td>\n      <td>Crime, Drama, Romance</td>\n      <td>94</td>\n      <td>France</td>\n      <td>French, Arabic</td>\n      <td>Julien Duvivier</td>\n      <td>Henri La Barthe, Henri La Barthe</td>\n      <td>Jean Gabin, Gabriel Gabrio, Saturnin Fabre, Fe...</td>\n      <td>7.7</td>\n      <td>6180</td>\n      <td>$ 60000</td>\n      <td>$ 155895</td>\n      <td>$ 155895</td>\n      <td>98.0</td>\n      <td>46.0</td>\n      <td>55.0</td>\n    </tr>\n    <tr>\n      <th>2827</th>\n      <td>tt0029583</td>\n      <td>Snow White and the Seven Dwarfs</td>\n      <td>1937</td>\n      <td>Animation, Family, Fantasy</td>\n      <td>83</td>\n      <td>USA</td>\n      <td>English</td>\n      <td>William Cottrell, David Hand</td>\n      <td>Jacob Grimm, Wilhelm Grimm</td>\n      <td>Roy Atwell, Stuart Buchanan, Adriana Caselotti...</td>\n      <td>7.6</td>\n      <td>177157</td>\n      <td>$ 1499000</td>\n      <td>$ 184925486</td>\n      <td>$ 184925486</td>\n      <td>95.0</td>\n      <td>260.0</td>\n      <td>173.0</td>\n    </tr>\n  </tbody>\n</table>\n</div>"
     },
     "execution_count": 497,
     "metadata": {},
     "output_type": "execute_result"
    }
   ],
   "source": [
    "# These attributes are very important to have, so we ensure that there are no missing values for them.\n",
    "data.dropna(subset=['usa_gross_income', 'worlwide_gross_income', 'budget',\n",
    "                    'metascore', 'avg_vote', 'reviews_from_users', 'reviews_from_critics'],\n",
    "            inplace=True\n",
    "            )\n",
    "\n",
    "# We also want to ensure that there are no duplicate movies in the dataset.\n",
    "data.drop_duplicates(['original_title'], inplace=True)\n",
    "\n",
    "# We create a new dataframe consisting of the attributes that we'll be using for the learning process.\n",
    "dataframe = pd.DataFrame(data, columns=['imdb_title_id', 'original_title', 'year', 'genre', 'duration', 'country', 'language', 'director', 'writer', 'actors', 'avg_vote', 'votes', 'budget', 'usa_gross_income', 'worlwide_gross_income', 'metascore', 'reviews_from_users', 'reviews_from_critics'])\n",
    "dataframe.head()"
   ]
  },
  {
   "cell_type": "markdown",
   "metadata": {
    "pycharm": {
     "name": "#%% md\n"
    }
   },
   "source": [
    "## Converting Columns from <code>str</code> to <code>int</code> in the DataFrame\n",
    "\n",
    "Many of the columns in the dataframe are of type <code>str</code> and aren't suitable for our analysis (e.g. year, metascore). We can convert the columns from type <code>str</code> to <code>int</code> or <code>float</code> for better analysis of the data.\n",
    "<hr>"
   ]
  },
  {
   "cell_type": "code",
   "execution_count": 498,
   "metadata": {
    "pycharm": {
     "name": "#%%\n"
    }
   },
   "outputs": [],
   "source": [
    "dataframe['year'] = dataframe['year'].astype(int)\n",
    "dataframe['votes'] = dataframe['votes'].astype(int)\n",
    "dataframe['metascore'] = dataframe['metascore'].astype(int)\n",
    "\n",
    "# There are a few missing values in the reviews from users and reviews\n",
    "# from critics, so we want to convert the type to float to ensure that\n",
    "# the column can still be converted to an appropriate value.\n",
    "dataframe['reviews_from_users'] = dataframe['reviews_from_users'].astype(float)\n",
    "dataframe['reviews_from_critics'] = dataframe['reviews_from_critics'].astype(float)\n",
    "\n",
    "# The values for 'avg_vote' are a float, so we want to convert it to\n",
    "# type float and so that we can keep the decimal values.\n",
    "dataframe['avg_vote'] = dataframe['avg_vote'].astype(float)"
   ]
  },
  {
   "cell_type": "markdown",
   "metadata": {},
   "source": [
    "## Filtering Movies from 1970 and Beyond\n",
    "\n",
    "Movies produced and released prior to the 1970s had a fairly difference audience and also generally lower box-office revenue. Filtering the dataset to contain only movies from the 1970s and beyond will allow us to look at and classify modern movies.\n",
    "<hr>"
   ]
  },
  {
   "cell_type": "code",
   "execution_count": 499,
   "metadata": {
    "pycharm": {
     "name": "#%%\n"
    }
   },
   "outputs": [
    {
     "data": {
      "text/plain": "      imdb_title_id                  original_title  year  \\\n4334      tt0035423                  Kate & Leopold  2001   \n14260     tt0065134       Two Mules for Sister Sara  1970   \n14323     tt0065377                         Airport  1970   \n14340     tt0065421                  The AristoCats  1970   \n14357     tt0065462  Beneath the Planet of the Apes  1970   \n\n                              genre  duration      country  \\\n4334       Comedy, Fantasy, Romance       118          USA   \n14260       Adventure, Romance, War       116  USA, Mexico   \n14323       Action, Drama, Thriller       137          USA   \n14340  Animation, Adventure, Comedy        78          USA   \n14357     Action, Adventure, Sci-Fi        95          USA   \n\n                              language                       director  \\\n4334                   English, French                  James Mangold   \n14260  English, Spanish, French, Latin                     Don Siegel   \n14323                 English, Italian  George Seaton, Henry Hathaway   \n14340                          English            Wolfgang Reitherman   \n14357                          English                       Ted Post   \n\n                              writer  \\\n4334    Steven Rogers, James Mangold   \n14260  Budd Boetticher, Albert Maltz   \n14323   Arthur Hailey, George Seaton   \n14340    Larry Clemmons, Vance Gerry   \n14357       Paul Dehn, Mort Abrahams   \n\n                                                  actors  avg_vote  votes  \\\n4334   Meg Ryan, Hugh Jackman, Liev Schreiber, Brecki...       6.4  77852   \n14260  Shirley MacLaine, Clint Eastwood, Manolo Fábre...       7.0  23223   \n14323  Burt Lancaster, Dean Martin, Jean Seberg, Jacq...       6.6  17068   \n14340  Phil Harris, Eva Gabor, Sterling Holloway, Sca...       7.1  91085   \n14357  James Franciscus, Kim Hunter, Maurice Evans, L...       6.1  41159   \n\n           budget usa_gross_income worlwide_gross_income  metascore  \\\n4334   $ 48000000       $ 47121859            $ 76019048         44   \n14260   $ 2500000        $ 5050000             $ 5050000         62   \n14323  $ 10000000      $ 100489151           $ 100489151         42   \n14340   $ 4000000       $ 35452658            $ 35459543         66   \n14357   $ 3000000       $ 18999718            $ 18999718         46   \n\n       reviews_from_users  reviews_from_critics  \n4334                341.0                 115.0  \n14260                79.0                  39.0  \n14323               188.0                  82.0  \n14340               141.0                 113.0  \n14357               182.0                  73.0  ",
      "text/html": "<div>\n<style scoped>\n    .dataframe tbody tr th:only-of-type {\n        vertical-align: middle;\n    }\n\n    .dataframe tbody tr th {\n        vertical-align: top;\n    }\n\n    .dataframe thead th {\n        text-align: right;\n    }\n</style>\n<table border=\"1\" class=\"dataframe\">\n  <thead>\n    <tr style=\"text-align: right;\">\n      <th></th>\n      <th>imdb_title_id</th>\n      <th>original_title</th>\n      <th>year</th>\n      <th>genre</th>\n      <th>duration</th>\n      <th>country</th>\n      <th>language</th>\n      <th>director</th>\n      <th>writer</th>\n      <th>actors</th>\n      <th>avg_vote</th>\n      <th>votes</th>\n      <th>budget</th>\n      <th>usa_gross_income</th>\n      <th>worlwide_gross_income</th>\n      <th>metascore</th>\n      <th>reviews_from_users</th>\n      <th>reviews_from_critics</th>\n    </tr>\n  </thead>\n  <tbody>\n    <tr>\n      <th>4334</th>\n      <td>tt0035423</td>\n      <td>Kate &amp; Leopold</td>\n      <td>2001</td>\n      <td>Comedy, Fantasy, Romance</td>\n      <td>118</td>\n      <td>USA</td>\n      <td>English, French</td>\n      <td>James Mangold</td>\n      <td>Steven Rogers, James Mangold</td>\n      <td>Meg Ryan, Hugh Jackman, Liev Schreiber, Brecki...</td>\n      <td>6.4</td>\n      <td>77852</td>\n      <td>$ 48000000</td>\n      <td>$ 47121859</td>\n      <td>$ 76019048</td>\n      <td>44</td>\n      <td>341.0</td>\n      <td>115.0</td>\n    </tr>\n    <tr>\n      <th>14260</th>\n      <td>tt0065134</td>\n      <td>Two Mules for Sister Sara</td>\n      <td>1970</td>\n      <td>Adventure, Romance, War</td>\n      <td>116</td>\n      <td>USA, Mexico</td>\n      <td>English, Spanish, French, Latin</td>\n      <td>Don Siegel</td>\n      <td>Budd Boetticher, Albert Maltz</td>\n      <td>Shirley MacLaine, Clint Eastwood, Manolo Fábre...</td>\n      <td>7.0</td>\n      <td>23223</td>\n      <td>$ 2500000</td>\n      <td>$ 5050000</td>\n      <td>$ 5050000</td>\n      <td>62</td>\n      <td>79.0</td>\n      <td>39.0</td>\n    </tr>\n    <tr>\n      <th>14323</th>\n      <td>tt0065377</td>\n      <td>Airport</td>\n      <td>1970</td>\n      <td>Action, Drama, Thriller</td>\n      <td>137</td>\n      <td>USA</td>\n      <td>English, Italian</td>\n      <td>George Seaton, Henry Hathaway</td>\n      <td>Arthur Hailey, George Seaton</td>\n      <td>Burt Lancaster, Dean Martin, Jean Seberg, Jacq...</td>\n      <td>6.6</td>\n      <td>17068</td>\n      <td>$ 10000000</td>\n      <td>$ 100489151</td>\n      <td>$ 100489151</td>\n      <td>42</td>\n      <td>188.0</td>\n      <td>82.0</td>\n    </tr>\n    <tr>\n      <th>14340</th>\n      <td>tt0065421</td>\n      <td>The AristoCats</td>\n      <td>1970</td>\n      <td>Animation, Adventure, Comedy</td>\n      <td>78</td>\n      <td>USA</td>\n      <td>English</td>\n      <td>Wolfgang Reitherman</td>\n      <td>Larry Clemmons, Vance Gerry</td>\n      <td>Phil Harris, Eva Gabor, Sterling Holloway, Sca...</td>\n      <td>7.1</td>\n      <td>91085</td>\n      <td>$ 4000000</td>\n      <td>$ 35452658</td>\n      <td>$ 35459543</td>\n      <td>66</td>\n      <td>141.0</td>\n      <td>113.0</td>\n    </tr>\n    <tr>\n      <th>14357</th>\n      <td>tt0065462</td>\n      <td>Beneath the Planet of the Apes</td>\n      <td>1970</td>\n      <td>Action, Adventure, Sci-Fi</td>\n      <td>95</td>\n      <td>USA</td>\n      <td>English</td>\n      <td>Ted Post</td>\n      <td>Paul Dehn, Mort Abrahams</td>\n      <td>James Franciscus, Kim Hunter, Maurice Evans, L...</td>\n      <td>6.1</td>\n      <td>41159</td>\n      <td>$ 3000000</td>\n      <td>$ 18999718</td>\n      <td>$ 18999718</td>\n      <td>46</td>\n      <td>182.0</td>\n      <td>73.0</td>\n    </tr>\n  </tbody>\n</table>\n</div>"
     },
     "execution_count": 499,
     "metadata": {},
     "output_type": "execute_result"
    }
   ],
   "source": [
    "modern_df = dataframe.loc[dataframe['year'] >= 1970]\n",
    "modern_df.head()"
   ]
  },
  {
   "cell_type": "markdown",
   "source": [
    "## Converting Currency Strings to Numerical Strings\n",
    "\n",
    "There are a few attributes in the data that contain currency values but because\n",
    "of the currency codes, they're of `str` data type instead of `int`. This causes\n",
    "a loss of valuable data since we're not able to evaluate the data as numerical values.\n",
    "\n",
    "Our goal is to convert every currency value to USD. We will be using a [Currency Conversion](https://pypi.org/project/CurrencyConverter/)\n",
    "Python library by Alex Prengere. This will allow us to convert various currencies to USD\n",
    "and also account for inflation.\n",
    "\n",
    "We will also be using Python's `re` Regular Expressions library to parse the currency\n",
    "codes and the numbers from the string data.\n",
    "<hr>"
   ],
   "metadata": {
    "collapsed": false,
    "pycharm": {
     "name": "#%% md\n"
    }
   }
  },
  {
   "cell_type": "code",
   "execution_count": 500,
   "outputs": [],
   "source": [
    "from currency_converter import CurrencyConverter\n",
    "import re\n",
    "\n",
    "# Grab only the currency attributes from the data.\n",
    "budget = modern_df['budget']\n",
    "usa_gross_income = modern_df['usa_gross_income']\n",
    "worldwide_gross_income = modern_df['worlwide_gross_income']\n",
    "\n",
    "'''Use regular expressions to split the string into the currency code\n",
    "and the value.'''\n",
    "def split_currency_string(string):\n",
    "    \"\"\"Function takes a currency string and parses the currency code\n",
    "    and currency value and stores it in a tuple.\n",
    "    \"\"\"\n",
    "\n",
    "    match = re.match(r\"(\\$|[a-z]+) (\\d+)\", string, re.I)\n",
    "\n",
    "    if match:\n",
    "        items = match.groups()\n",
    "        return items\n",
    "\n",
    "c = CurrencyConverter()\n",
    "\n",
    "'''Some of the currency codes in the data set don't match up with the converter.\n",
    "We define a dictionary that contains those mis-labeled currency codes and\n",
    "map them to the correct currency code for the converter.\n",
    "'''\n",
    "currency_codes = {\n",
    "'$': 'USD',\n",
    "'RUR': 'RUB',\n",
    "}\n",
    "\n",
    "'''There are a few currencies in the data set that are obsolete. These are currencies that were\n",
    "used prior to the introduction of the Euro. This hash table maps each of the obsolete European\n",
    "currencies to their conversion rate to the Euro.\n",
    "'''\n",
    "obsolete_euro_currencies = {\n",
    "    'DEM': 0.511364,\n",
    "    'FRF': 0.152449,\n",
    "    'ITL': 0.000516457,\n",
    "    'BEF': 0.0247894,\n",
    "    'ESP': 0.00601012,\n",
    "    'ATS': 0.0726728,\n",
    "    'FIM': 0.168188\n",
    "}\n",
    "\n",
    "'''There are currencies in the data set that are not included in the currency converter. To\n",
    "bypass this problem, we map each of these currencies to their conversion rate to the Euro.\n",
    "'''\n",
    "other_currencies = {\n",
    "    'CLP': 0.0012,\n",
    "    'NGN': 0.0022,\n",
    "    'ARS': 0.0090,\n",
    "    'DOP': 0.015\n",
    "}\n",
    "\n",
    "def convert_currency_to_USD(currency_code: str, currency_value: str):\n",
    "    \"\"\"The function takes in two arguments, a currency code and a currency value,\n",
    "    and converts them to USD.\n",
    "    \"\"\"\n",
    "\n",
    "    if currency_code in currency_codes:\n",
    "        new_currency = (currency_codes[currency_code], currency_value)\n",
    "        converted_value = c.convert(int(new_currency[1]), new_currency[0], 'USD')\n",
    "    elif currency_code in obsolete_euro_currencies:\n",
    "        obsolete_currency = int(currency_value)                             # Grab the value of the obsolete currency.\n",
    "        euro = obsolete_currency * obsolete_euro_currencies[currency_code]  # Convert the deprecated currency value to the EUR.\n",
    "        converted_value = c.convert(euro, 'EUR', 'USD')                     # Convert EUR to USD.\n",
    "    elif currency_code in other_currencies:\n",
    "        other_currency = int(currency_value)\n",
    "        euro = other_currency * other_currencies[currency_code]\n",
    "        converted_value = c.convert(euro, 'EUR', 'USD')\n",
    "    else:\n",
    "        converted_value = c.convert(int(currency_value), currency_code, 'USD')  # Convert all currencies to USD.\n",
    "\n",
    "    return converted_value\n",
    "\n",
    "'''Since we are attempting to write back to the original data frame, we need to\n",
    "ensure that we disable the chained assignment protection in the Pandas options.\n",
    "'''\n",
    "pd.options.mode.chained_assignment = None  # default='warn'\n",
    "\n",
    "def currency_str_to_float(df, column_name):\n",
    "    \"\"\"Takes in a data frame and a column name. Converts each row into USD and\n",
    "    modifies the data frame in place.\n",
    "    \"\"\"\n",
    "\n",
    "    for i in range(0, len(df)):\n",
    "        currency = split_currency_string(df[column_name].iloc[i])       # Split the string into a code and value.\n",
    "        converted = convert_currency_to_USD(currency[0], currency[1])   # Convert the currency value to USD.\n",
    "        df[column_name].iloc[i] = converted                             # Apply the converted value to the data frame.\n",
    "\n",
    "currency_str_to_float(modern_df, 'budget')                      # Convert Budget currencies to USD.\n",
    "currency_str_to_float(modern_df, 'usa_gross_income')            # Convert USA Gross Income to USD.\n",
    "currency_str_to_float(modern_df, 'worlwide_gross_income')       # Convert Worldwide Gross Income to USD."
   ],
   "metadata": {
    "collapsed": false,
    "pycharm": {
     "name": "#%%\n"
    }
   }
  },
  {
   "cell_type": "markdown",
   "metadata": {
    "pycharm": {
     "name": "#%% md\n"
    }
   },
   "source": [
    "## Sorting Data by Number of User Votes\n",
    "<hr>"
   ]
  },
  {
   "cell_type": "code",
   "execution_count": 501,
   "metadata": {
    "pycharm": {
     "name": "#%%\n"
    }
   },
   "outputs": [
    {
     "data": {
      "text/plain": "      imdb_title_id            original_title  year  \\\n28453     tt0111161  The Shawshank Redemption  1994   \n15528     tt0068646             The Godfather  1972   \n48078     tt0468569           The Dark Knight  2008   \n16556     tt0071562    The Godfather: Part II  1974   \n27629     tt0108052          Schindler's List  1993   \n\n                           genre  duration  country  \\\n28453                      Drama       142      USA   \n15528               Crime, Drama       175      USA   \n48078       Action, Crime, Drama       152  USA, UK   \n16556               Crime, Drama       202      USA   \n27629  Biography, Drama, History       195      USA   \n\n                                         language              director  \\\n28453                                     English        Frank Darabont   \n15528                     English, Italian, Latin  Francis Ford Coppola   \n48078                           English, Mandarin     Christopher Nolan   \n16556  English, Italian, Spanish, Latin, Sicilian  Francis Ford Coppola   \n27629      English, Hebrew, German, Polish, Latin      Steven Spielberg   \n\n                                  writer  \\\n28453       Stephen King, Frank Darabont   \n15528   Mario Puzo, Francis Ford Coppola   \n48078  Jonathan Nolan, Christopher Nolan   \n16556   Francis Ford Coppola, Mario Puzo   \n27629   Thomas Keneally, Steven Zaillian   \n\n                                                  actors  avg_vote    votes  \\\n28453  Tim Robbins, Morgan Freeman, Bob Gunton, Willi...       9.3  2278845   \n15528  Marlon Brando, Al Pacino, James Caan, Richard ...       9.2  1572674   \n48078  Christian Bale, Heath Ledger, Aaron Eckhart, M...       9.0  2241615   \n16556  Al Pacino, Robert Duvall, Diane Keaton, Robert...       9.0  1098714   \n27629  Liam Neeson, Ben Kingsley, Ralph Fiennes, Caro...       8.9  1183248   \n\n            budget usa_gross_income worlwide_gross_income  metascore  \\\n28453   25000000.0       28699976.0            28815245.0         80   \n15528    6000000.0      134966411.0           246120974.0        100   \n48078  185000000.0      535234033.0          1005455211.0         84   \n16556   13000000.0       47834595.0            48035783.0         90   \n27629   22000000.0       96898818.0           322287794.0         94   \n\n       reviews_from_users  reviews_from_critics  \n28453              8232.0                 164.0  \n15528              3977.0                 253.0  \n48078              6938.0                 423.0  \n16556              1030.0                 178.0  \n27629              1845.0                 232.0  ",
      "text/html": "<div>\n<style scoped>\n    .dataframe tbody tr th:only-of-type {\n        vertical-align: middle;\n    }\n\n    .dataframe tbody tr th {\n        vertical-align: top;\n    }\n\n    .dataframe thead th {\n        text-align: right;\n    }\n</style>\n<table border=\"1\" class=\"dataframe\">\n  <thead>\n    <tr style=\"text-align: right;\">\n      <th></th>\n      <th>imdb_title_id</th>\n      <th>original_title</th>\n      <th>year</th>\n      <th>genre</th>\n      <th>duration</th>\n      <th>country</th>\n      <th>language</th>\n      <th>director</th>\n      <th>writer</th>\n      <th>actors</th>\n      <th>avg_vote</th>\n      <th>votes</th>\n      <th>budget</th>\n      <th>usa_gross_income</th>\n      <th>worlwide_gross_income</th>\n      <th>metascore</th>\n      <th>reviews_from_users</th>\n      <th>reviews_from_critics</th>\n    </tr>\n  </thead>\n  <tbody>\n    <tr>\n      <th>28453</th>\n      <td>tt0111161</td>\n      <td>The Shawshank Redemption</td>\n      <td>1994</td>\n      <td>Drama</td>\n      <td>142</td>\n      <td>USA</td>\n      <td>English</td>\n      <td>Frank Darabont</td>\n      <td>Stephen King, Frank Darabont</td>\n      <td>Tim Robbins, Morgan Freeman, Bob Gunton, Willi...</td>\n      <td>9.3</td>\n      <td>2278845</td>\n      <td>25000000.0</td>\n      <td>28699976.0</td>\n      <td>28815245.0</td>\n      <td>80</td>\n      <td>8232.0</td>\n      <td>164.0</td>\n    </tr>\n    <tr>\n      <th>15528</th>\n      <td>tt0068646</td>\n      <td>The Godfather</td>\n      <td>1972</td>\n      <td>Crime, Drama</td>\n      <td>175</td>\n      <td>USA</td>\n      <td>English, Italian, Latin</td>\n      <td>Francis Ford Coppola</td>\n      <td>Mario Puzo, Francis Ford Coppola</td>\n      <td>Marlon Brando, Al Pacino, James Caan, Richard ...</td>\n      <td>9.2</td>\n      <td>1572674</td>\n      <td>6000000.0</td>\n      <td>134966411.0</td>\n      <td>246120974.0</td>\n      <td>100</td>\n      <td>3977.0</td>\n      <td>253.0</td>\n    </tr>\n    <tr>\n      <th>48078</th>\n      <td>tt0468569</td>\n      <td>The Dark Knight</td>\n      <td>2008</td>\n      <td>Action, Crime, Drama</td>\n      <td>152</td>\n      <td>USA, UK</td>\n      <td>English, Mandarin</td>\n      <td>Christopher Nolan</td>\n      <td>Jonathan Nolan, Christopher Nolan</td>\n      <td>Christian Bale, Heath Ledger, Aaron Eckhart, M...</td>\n      <td>9.0</td>\n      <td>2241615</td>\n      <td>185000000.0</td>\n      <td>535234033.0</td>\n      <td>1005455211.0</td>\n      <td>84</td>\n      <td>6938.0</td>\n      <td>423.0</td>\n    </tr>\n    <tr>\n      <th>16556</th>\n      <td>tt0071562</td>\n      <td>The Godfather: Part II</td>\n      <td>1974</td>\n      <td>Crime, Drama</td>\n      <td>202</td>\n      <td>USA</td>\n      <td>English, Italian, Spanish, Latin, Sicilian</td>\n      <td>Francis Ford Coppola</td>\n      <td>Francis Ford Coppola, Mario Puzo</td>\n      <td>Al Pacino, Robert Duvall, Diane Keaton, Robert...</td>\n      <td>9.0</td>\n      <td>1098714</td>\n      <td>13000000.0</td>\n      <td>47834595.0</td>\n      <td>48035783.0</td>\n      <td>90</td>\n      <td>1030.0</td>\n      <td>178.0</td>\n    </tr>\n    <tr>\n      <th>27629</th>\n      <td>tt0108052</td>\n      <td>Schindler's List</td>\n      <td>1993</td>\n      <td>Biography, Drama, History</td>\n      <td>195</td>\n      <td>USA</td>\n      <td>English, Hebrew, German, Polish, Latin</td>\n      <td>Steven Spielberg</td>\n      <td>Thomas Keneally, Steven Zaillian</td>\n      <td>Liam Neeson, Ben Kingsley, Ralph Fiennes, Caro...</td>\n      <td>8.9</td>\n      <td>1183248</td>\n      <td>22000000.0</td>\n      <td>96898818.0</td>\n      <td>322287794.0</td>\n      <td>94</td>\n      <td>1845.0</td>\n      <td>232.0</td>\n    </tr>\n  </tbody>\n</table>\n</div>"
     },
     "execution_count": 501,
     "metadata": {},
     "output_type": "execute_result"
    }
   ],
   "source": [
    "sorted_df = modern_df.sort_values('avg_vote', ascending=False)\n",
    "sorted_df.head()"
   ]
  },
  {
   "cell_type": "markdown",
   "source": [
    "# The Multi-layer Perceptron Classifier\n",
    "\n",
    ">*Multi-layer Perceptron (MLP) is a supervised learning algorithm that learns a function that maps **R^m** to **R^o**\n",
    "by training on a dataset, where <strong>m</strong> is the number of dimensions for input and <strong>o</strong> is the number of dimensions for output. Given a set of features\n",
    "and a target , it can learn a non-linear function approximator for either classification or regression. It is different from logistic regression, in that between the input and the output layer, there can be one or more non-linear layers, called hidden layers.* (scikit-learn.org)\n",
    "\n",
    "The Multi-layer Perceptron learning algorithm is a neural network classifier and is incredibly powerful. We'll be\n",
    "using artificial neural networks as our classification model for predicting\n",
    "ratings of movies based on the training data set. Let's set up our data for\n",
    "the classifier by normalizing the data set.\n",
    "\n",
    "## Encoding String Data into Numerical Values\n",
    "\n",
    "Prior to normalizing and training our neural network model, we need to\n",
    "encode our string attributes into numerical data.\n",
    "<hr />"
   ],
   "metadata": {
    "collapsed": false,
    "pycharm": {
     "name": "#%% md\n"
    }
   }
  },
  {
   "cell_type": "code",
   "execution_count": 502,
   "outputs": [
    {
     "name": "stdout",
     "output_type": "stream",
     "text": [
      "imdb_title_id: <class 'numpy.int32'>\n",
      "original_title: <class 'numpy.int32'>\n",
      "year: <class 'numpy.int32'>\n",
      "genre: <class 'numpy.int32'>\n",
      "duration: <class 'numpy.int64'>\n",
      "country: <class 'numpy.int32'>\n",
      "language: <class 'numpy.int32'>\n",
      "director: <class 'numpy.int32'>\n",
      "writer: <class 'numpy.int32'>\n",
      "actors: <class 'numpy.int32'>\n",
      "avg_vote: <class 'numpy.float64'>\n",
      "votes: <class 'numpy.int32'>\n",
      "budget: <class 'float'>\n",
      "usa_gross_income: <class 'float'>\n",
      "worlwide_gross_income: <class 'float'>\n",
      "metascore: <class 'numpy.int32'>\n",
      "reviews_from_users: <class 'numpy.float64'>\n",
      "reviews_from_critics: <class 'numpy.float64'>\n"
     ]
    }
   ],
   "source": [
    "from sklearn.preprocessing import LabelEncoder\n",
    "\n",
    "# Class to user the LabelEncoder across multiple columns.\n",
    "class MultiColumnLabelEncoder:\n",
    "    def __init__(self, columns = None):\n",
    "        self.columns = columns\n",
    "\n",
    "    def fit(self, X, y=None):\n",
    "        return self\n",
    "\n",
    "    def transform(self, X):\n",
    "        output = X.copy()\n",
    "\n",
    "        if self.columns is not None:\n",
    "            for col in self.columns:\n",
    "                output[col] = LabelEncoder().fit_transform(output[col])\n",
    "        else:\n",
    "            for colname, col in output.iteritems():\n",
    "                output[colname] = LabelEncoder().fit_transform(col)\n",
    "\n",
    "        return output\n",
    "\n",
    "    def fit_transform(self, X, y = None):\n",
    "        return self.fit(X, y).transform(X)\n",
    "\n",
    "# Encode the categorical attributes in the data set.\n",
    "encoded_df = MultiColumnLabelEncoder(columns=['imdb_title_id', 'original_title', 'genre', 'country',\n",
    "                                 'language', 'director', 'writer', 'actors']).fit_transform(sorted_df)"
   ],
   "metadata": {
    "collapsed": false,
    "pycharm": {
     "name": "#%%\n"
    }
   }
  },
  {
   "cell_type": "markdown",
   "source": [
    "## Separate Training and Test Set\n",
    "\n",
    "We will be setting up our data for testing. As mentioned before, we will be focusing\n",
    "on learning a model to predict ratings of movies. We'll split the data into `X` and `Y`,\n",
    "where `X` will be the data set will every attribute besides the average vote and `Y`\n",
    "will be the data set with <i>only</i> the average vote.\n",
    "<hr />"
   ],
   "metadata": {
    "collapsed": false
   }
  },
  {
   "cell_type": "code",
   "execution_count": 504,
   "outputs": [
    {
     "name": "stdout",
     "output_type": "stream",
     "text": [
      "X Training set size: 5154\n",
      "Y Training set size: 5154\n",
      "X Test set size: 1289\n",
      "Y Test set size: 1289\n"
     ]
    }
   ],
   "source": [
    "from sklearn.model_selection import train_test_split\n",
    "\n",
    "X = encoded_df.drop('avg_vote', axis=1)\n",
    "Y = encoded_df['avg_vote']\n",
    "\n",
    "# This statement is so that the classifier can fit the Y data set without any problems.\n",
    "Y = Y.astype('int')\n",
    "\n",
    "X_train, X_test, Y_train, Y_test = train_test_split(X, Y, test_size=0.2, random_state=42)\n",
    "\n",
    "print(\"X Training set size:\", len(X_train))\n",
    "print(\"Y Training set size:\", len(Y_train))\n",
    "print(\"X Test set size:\", len(X_test))\n",
    "print(\"Y Test set size:\", len(Y_test))"
   ],
   "metadata": {
    "collapsed": false,
    "pycharm": {
     "name": "#%%\n"
    }
   }
  },
  {
   "cell_type": "code",
   "execution_count": 505,
   "outputs": [],
   "source": [
    "from sklearn.preprocessing import StandardScaler\n",
    "\n",
    "scaler = StandardScaler()\n",
    "\n",
    "# Normalize the training data set.\n",
    "scaler.fit(X_train)\n",
    "\n",
    "# And then we'll apply the transformations to the data.\n",
    "X_train = scaler.transform(X_train)\n",
    "X_test = scaler.transform(X_test)"
   ],
   "metadata": {
    "collapsed": false,
    "pycharm": {
     "name": "#%%\n"
    }
   }
  },
  {
   "cell_type": "markdown",
   "source": [
    "## Using a Hyper-parameter Optimization Tool\n",
    "\n",
    "SKLearn provides extremely powerful tools to optimize our hyper parameters\n",
    "of our classification model."
   ],
   "metadata": {
    "collapsed": false
   }
  },
  {
   "cell_type": "markdown",
   "source": [
    "## Training the Model"
   ],
   "metadata": {
    "collapsed": false,
    "pycharm": {
     "name": "#%% md\n"
    }
   }
  },
  {
   "cell_type": "code",
   "execution_count": 509,
   "outputs": [
    {
     "data": {
      "text/plain": "0.5880527540729248"
     },
     "execution_count": 509,
     "metadata": {},
     "output_type": "execute_result"
    }
   ],
   "source": [
    "from sklearn.neural_network import MLPClassifier\n",
    "\n",
    "# Set the hidden layer sizes to 100 and the max iterations to 2000 for convergence.\n",
    "mlp = MLPClassifier(hidden_layer_sizes=[200], max_iter=1000)\n",
    "mlp.fit(X_train, Y_train)\n",
    "mlp.score(X_test, Y_test)\n"
   ],
   "metadata": {
    "collapsed": false,
    "pycharm": {
     "name": "#%%\n"
    }
   }
  }
 ],
 "metadata": {
  "kernelspec": {
   "display_name": "Python 3",
   "language": "python",
   "name": "python3"
  },
  "language_info": {
   "codemirror_mode": {
    "name": "ipython",
    "version": 3
   },
   "file_extension": ".py",
   "mimetype": "text/x-python",
   "name": "python",
   "nbconvert_exporter": "python",
   "pygments_lexer": "ipython3",
   "version": "3.9.0"
  }
 },
 "nbformat": 4,
 "nbformat_minor": 1
}